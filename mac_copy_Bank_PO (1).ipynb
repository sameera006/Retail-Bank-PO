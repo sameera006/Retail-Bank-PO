{
 "cells": [
  {
   "cell_type": "markdown",
   "id": "c3f4b8ac-c7d2-4fb2-b187-75c0a1ebc63c",
   "metadata": {
    "id": "c3f4b8ac-c7d2-4fb2-b187-75c0a1ebc63c"
   },
   "source": [
    "<a id=\"ID_intr\"></a>\n",
    "| [1.0 Intro](#ID_intr) | [2.0 Lit. review](#ID_lit) | [3.0 Research Quest.](#ID_research) | [4.0 Data](#ID_data) | [5.0 Methodology](\"#ID_Method) | [6.0 Results](\"#section_ID\") | [7.0 Discussion](#ID_Intro) | [Bibliography](#ID_Intro)  \n",
    "\n"
   ]
  },
  {
   "cell_type": "markdown",
   "id": "f103f9a7-45b4-4af7-90f1-3327e3fae3c6",
   "metadata": {
    "id": "f103f9a7-45b4-4af7-90f1-3327e3fae3c6"
   },
   "source": [
    "## 1.0 | INTRODUCTION"
   ]
  },
  {
   "cell_type": "markdown",
   "id": "efb8ff77-ec99-4b9f-b076-d7e6367e2188",
   "metadata": {
    "id": "efb8ff77-ec99-4b9f-b076-d7e6367e2188"
   },
   "source": [
    "Traditionally, banks and post offices have been distinct entities, each serving specific purposes. Banks handle financial transactions like savings, deposits, and withdrawals, while post offices focus on sending mail and packages. However, recent efforts aim to streamline services by integrating post offices into the banking system. This approach would allow a single organization to manage both banking and postal activities, potentially easing the burden on the government and optimizing resource utilization for public service. \n",
    "\n",
    "Banking Retail Points is an open data set provided by Geolytix, focusing on the locations of bank and building society branches across the UK. These branches play a crucial role as essential services in their respective areas. This dataset includes both current and closed (since 2015) branch locations for operators with more than 10 branches. Each entry in the dataset includes details such as store name, address (including postcode), latitude, longitude, the Geolytix seamless towns and localities, the branch’s permanent closure date (if applicable), and the distance to the nearest currently trading Post Office.(Geolytix)\n",
    "\n",
    ".To understand whether is there any correlation or causation between the closed branches of banks and their nearest post offices. This paper outlines the method and results of an exploratory Supervised Classification analysis of United Kingdom Banks and Building Society branches and their nearest Post Office(PO) which indicates that if there is any relation in the closure of these branches and the nearest post office located..\n",
    "\n",
    "\n"
   ]
  },
  {
   "cell_type": "markdown",
   "id": "90f1650d-1217-4ccf-affb-dc2f44e55cca",
   "metadata": {
    "id": "90f1650d-1217-4ccf-affb-dc2f44e55cca"
   },
   "source": [
    "### 1.1 | Requirements to run the analysis\n",
    "\n",
    "An overview of packages used to run the analysis with brief explanation of their role."
   ]
  },
  {
   "cell_type": "markdown",
   "id": "84b30289-1971-4ebe-a4eb-3c23a3623809",
   "metadata": {
    "id": "84b30289-1971-4ebe-a4eb-3c23a3623809"
   },
   "source": [
    "First we will import relevant libraries\n",
    "* `pandas` for data import and handling;\n",
    "* `matplotlib`;\n",
    "* `numpy`;\n",
    "* `sklearn`; for different machine learning model.\n",
    "* `statsmodels` for linear regression and VIF."
   ]
  },
  {
   "cell_type": "code",
   "execution_count": 1,
   "id": "7db2d1a4-6048-4b11-9527-d1bcbb880671",
   "metadata": {
    "id": "7db2d1a4-6048-4b11-9527-d1bcbb880671"
   },
   "outputs": [],
   "source": [
    "import numpy as np\n",
    "import matplotlib.pyplot as plt\n",
    "import pandas as pd\n",
    "import seaborn as sns\n",
    "import sklearn\n",
    "from sklearn.linear_model import LinearRegression\n",
    "from sklearn.model_selection import train_test_split, GridSearchCV, validation_curve\n",
    "from sklearn import preprocessing # Import label encoder\n",
    "from sklearn.preprocessing import StandardScaler\n",
    "\n",
    "import statsmodels.api as sm\n",
    "\n",
    "pd.set_option('display.max_rows', 50) # specifies number of rows to show\n",
    "pd.options.display.float_format = '{:40,.4f}'.format # specifies default number format to 4 decimal places\n",
    "plt.style.use('ggplot') # specifies that graphs should use ggplot styling\n",
    "%matplotlib inline"
   ]
  },
  {
   "cell_type": "code",
   "execution_count": 2,
   "id": "4937e272-9ddf-4074-8eff-92ee06b291d0",
   "metadata": {
    "id": "4937e272-9ddf-4074-8eff-92ee06b291d0"
   },
   "outputs": [],
   "source": [
    "import warnings\n",
    "warnings.filterwarnings(\"ignore\")"
   ]
  },
  {
   "cell_type": "markdown",
   "id": "5442efd2-e1c0-432c-9d25-b061041c2a28",
   "metadata": {
    "id": "5442efd2-e1c0-432c-9d25-b061041c2a28"
   },
   "source": [
    "<a id=\"ID_lit\"></a>\n",
    "| [1.0 Intro](#ID_intr) | [2.0 Lit. review](#ID_lit) | [3.0 Research Quest.](#ID_research) | [4.0 Data](#ID_data) | [5.0 Methodology](\"#ID_Method) | [6.0 Results](\"#section_ID\") | [7.0 Discussion](#ID_Intro) | [Bibliography](#ID_Intro)  \n",
    "\n",
    "## 2.0 | Literature review"
   ]
  },
  {
   "cell_type": "markdown",
   "id": "b380040a-fae2-44de-9592-02731f8b9424",
   "metadata": {
    "id": "b380040a-fae2-44de-9592-02731f8b9424"
   },
   "source": [
    "The retail banking sector in the United Kingdom has undergone significant changes, including branch closures. Competition and the presence of alternative banking facilities, such as Post Office branches, influence closure likelihood. However, these closures can disproportionately affect vulnerable communities, impacting access to financial services. Policymakers and institutions should consider these implications as they navigate the evolving landscape of retail banking. (Clark, 2023)\n",
    "\n",
    "•\tThe UK retail banking market is characterized by a mix of traditional banks and building societies.\n",
    "\n",
    "•\tWhile the PRA recognizes a total of 160 banks and 43 building societies, the market is dominated by approximately 20 major players.\n",
    "\n",
    "•\tThese major players include Barclays, Santander, NatWest, Lloyds Banking Group, and HSBC.\n",
    "\n",
    "•\tTogether, they command a substantial 77% share of the retail banking marke(Bank of England, 2023)\n",
    "\n",
    "The UK government has aimed to provide ‘universal banking services’ through the post office network for the past two decades. To achieve this, they’ve implemented various policies and mechanisms. One such mechanism involves defining six official criteria for post office access, based on the percentage of the UK population living within one mile, three miles, and six miles of a post office. (Sonea,2021)\n",
    "\n",
    "The UK Government uses the Post Office Ltd to distribute welfare payments through its extensive network of access points.(The Post Office Network Report 2021)\n",
    "\n",
    "\n",
    "Another study, conducted by the University of Sheffield's Centre for Research into Accounting and Finance in Context and the University of Bristol's Personal Finance Research Centre, reveals the impact of bank closures on Post Office services in the UK. One in ten UK Post Offices has been affected by a nearby bank closure within a 1km radius, leading to a 27% increase in demand for cash deposit services. Areas with a higher number of bank branches experienced a greater number of closures, predominantly in urban regions.\n",
    "The closure of multiple bank branches in the same area resulted in a higher increase (58%) in Post Office deposit volumes. The study highlights that individuals and businesses seek alternative methods, such as Post Office services, for cash deposits when local banks close.  It underscores the importance of maintaining access to cash services, particularly in communities affected by bank closures (Bristol, 2022).\n",
    "\n",
    "This leads to a number of research questions:\n",
    "\n",
    "        * RQ1: Does having a nearby Post Office impact the risk of bank branch closure?\n",
    "        * RQ2: Are some companies more likely to close branches than others?\n",
    "\n",
    "This paper works to address these questions and figure out whether the hypothesis is true or not.\n",
    "\n"
   ]
  },
  {
   "cell_type": "markdown",
   "id": "247eddee-ec13-48ec-a4ea-2a766802beb3",
   "metadata": {
    "id": "247eddee-ec13-48ec-a4ea-2a766802beb3"
   },
   "source": [
    "<a id=\"ID_research\"></a>\n",
    "| [1.0 Intro](#ID_intr) | [2.0 Lit. review](#ID_lit) | [3.0 Research Quest.](#ID_research) | [4.0 Data](#ID_data) | [5.0 Methodology](\"#ID_Method) | [6.0 Results](\"#section_ID\") | [7.0 Discussion](#ID_Intro) | [Bibliography](#ID_Intro)  \n",
    "\n",
    "## 3.0 | Research Question"
   ]
  },
  {
   "cell_type": "markdown",
   "id": "856de0d6-b015-4b42-876f-83080bc6cdd1",
   "metadata": {
    "id": "856de0d6-b015-4b42-876f-83080bc6cdd1"
   },
   "source": [
    "How effectively do Post Offices bridge the gap left by closed bank branches in terms of financial services accessibility?"
   ]
  },
  {
   "cell_type": "markdown",
   "id": "724d3b25-8081-4329-b386-fd97447a2513",
   "metadata": {
    "id": "724d3b25-8081-4329-b386-fd97447a2513"
   },
   "source": [
    "<a id=\"ID_data\"></a>\n",
    "| [1.0 Intro](#ID_intr) | [2.0 Lit. review](#ID_lit) | [3.0 Research Quest.](#ID_research) | [4.0 Data](#ID_data) | [5.0 Methodology](\"#ID_Method) | [6.0 Results](\"#section_ID\") | [7.0 Discussion](#ID_Intro) | [Bibliography](#ID_Intro)  \n",
    "\n",
    "## 4.0 | Data Loading and Exploration"
   ]
  },
  {
   "cell_type": "markdown",
   "id": "82d1571a-b856-4251-b234-891e958942bd",
   "metadata": {
    "id": "82d1571a-b856-4251-b234-891e958942bd"
   },
   "source": [
    "This study uses bank operating information provided by the location analytics company Geolytix (Geolytix, 2021);\n",
    "it contains a panel dataset from 2015 to 2021 on the bank branches that were open in 2015 and an indication if the branch subsequently close.\n",
    "\n",
    "\n",
    "The entire dataset is available for download. [here](https://drive.google.com/file/d/1RjyAK7qa-qoKtU25KI4e-_mmdxW601tj/view).d."
   ]
  },
  {
   "cell_type": "markdown",
   "id": "61200511-fe05-4bda-bc47-94170308b1cd",
   "metadata": {
    "id": "61200511-fe05-4bda-bc47-94170308b1cd"
   },
   "source": [
    "Loading Retail Points of Bank"
   ]
  },
  {
   "cell_type": "code",
   "execution_count": 3,
   "id": "oJ-48zH4bwKh",
   "metadata": {
    "colab": {
     "base_uri": "https://localhost:8080/"
    },
    "id": "oJ-48zH4bwKh",
    "outputId": "7066b6b1-39f5-4824-fc7e-ba99c0a5f3df"
   },
   "outputs": [],
   "source": [
    "#from google.colab import drive\n",
    "#drive.mount('/content/drive')"
   ]
  },
  {
   "cell_type": "code",
   "execution_count": 5,
   "id": "79fa34e2-0525-48fb-b305-7f5f96d3876d",
   "metadata": {
    "id": "79fa34e2-0525-48fb-b305-7f5f96d3876d"
   },
   "outputs": [],
   "source": [
    "# Reading the csv file.\n",
    "\n",
    "#bank_rp = pd.read_csv('data/uk_bank.csv')\n",
    "\n",
    "#bank_rp = pd.read_csv('/content/drive/MyDrive/uk_bank.csv')\n",
    "\n",
    "bank_rp = pd.read_csv('https://raw.githubusercontent.com/sameera006/Retail-Bank-PO/master/data/uk_bank.csv')\n",
    "\n",
    "#https://drive.google.com/file/d/1RjyAK7qa-qoKtU25KI4e-_mmdxW601tj/view"
   ]
  },
  {
   "cell_type": "code",
   "execution_count": 6,
   "id": "cd962258-50c2-4503-9785-b05a0e6c5138",
   "metadata": {
    "colab": {
     "base_uri": "https://localhost:8080/",
     "height": 551
    },
    "id": "cd962258-50c2-4503-9785-b05a0e6c5138",
    "outputId": "a2cb678c-d4a0-4b5c-f044-e1e83e41c68f"
   },
   "outputs": [
    {
     "data": {
      "text/html": [
       "<div>\n",
       "<style scoped>\n",
       "    .dataframe tbody tr th:only-of-type {\n",
       "        vertical-align: middle;\n",
       "    }\n",
       "\n",
       "    .dataframe tbody tr th {\n",
       "        vertical-align: top;\n",
       "    }\n",
       "\n",
       "    .dataframe thead th {\n",
       "        text-align: right;\n",
       "    }\n",
       "</style>\n",
       "<table border=\"1\" class=\"dataframe\">\n",
       "  <thead>\n",
       "    <tr style=\"text-align: right;\">\n",
       "      <th></th>\n",
       "      <th>id</th>\n",
       "      <th>brand_full</th>\n",
       "      <th>brand_short</th>\n",
       "      <th>branch_name</th>\n",
       "      <th>branch_type</th>\n",
       "      <th>add_one</th>\n",
       "      <th>add_two</th>\n",
       "      <th>suburb</th>\n",
       "      <th>town</th>\n",
       "      <th>region</th>\n",
       "      <th>...</th>\n",
       "      <th>hours_wednesday</th>\n",
       "      <th>hours_thursday</th>\n",
       "      <th>hours_friday</th>\n",
       "      <th>hours_saturday</th>\n",
       "      <th>trading_hours</th>\n",
       "      <th>status</th>\n",
       "      <th>close_month</th>\n",
       "      <th>close_year</th>\n",
       "      <th>po_dist</th>\n",
       "      <th>open_year</th>\n",
       "    </tr>\n",
       "  </thead>\n",
       "  <tbody>\n",
       "    <tr>\n",
       "      <th>0</th>\n",
       "      <td>11210</td>\n",
       "      <td>TSB</td>\n",
       "      <td>TSB</td>\n",
       "      <td>Louth, The Salvation Army Centre</td>\n",
       "      <td>Pop Up Branch</td>\n",
       "      <td>The Salvation Army Centre</td>\n",
       "      <td>13 Church Street</td>\n",
       "      <td>NaN</td>\n",
       "      <td>NaN</td>\n",
       "      <td>NaN</td>\n",
       "      <td>...</td>\n",
       "      <td>NaN</td>\n",
       "      <td>NaN</td>\n",
       "      <td>NaN</td>\n",
       "      <td>NaN</td>\n",
       "      <td>NaN</td>\n",
       "      <td>Open</td>\n",
       "      <td>NaN</td>\n",
       "      <td>NaN</td>\n",
       "      <td>13,232.0000</td>\n",
       "      <td>2,023.0000</td>\n",
       "    </tr>\n",
       "    <tr>\n",
       "      <th>1</th>\n",
       "      <td>10535</td>\n",
       "      <td>Royal Bank of Scotland</td>\n",
       "      <td>RBS</td>\n",
       "      <td>Kyle Mobile Branch</td>\n",
       "      <td>Mobile Branch</td>\n",
       "      <td>Harbour Slip Kyle IV40 8AF</td>\n",
       "      <td>NaN</td>\n",
       "      <td>NaN</td>\n",
       "      <td>Kyle of Lochalsh</td>\n",
       "      <td>Scotland</td>\n",
       "      <td>...</td>\n",
       "      <td>NaN</td>\n",
       "      <td>NaN</td>\n",
       "      <td>NaN</td>\n",
       "      <td>NaN</td>\n",
       "      <td>NaN</td>\n",
       "      <td>Open</td>\n",
       "      <td>NaN</td>\n",
       "      <td>NaN</td>\n",
       "      <td>151.0000</td>\n",
       "      <td>2,022.0000</td>\n",
       "    </tr>\n",
       "    <tr>\n",
       "      <th>2</th>\n",
       "      <td>10401</td>\n",
       "      <td>Royal Bank of Scotland</td>\n",
       "      <td>RBS</td>\n",
       "      <td>Lerwick</td>\n",
       "      <td>Branch</td>\n",
       "      <td>81 Commercial Street Lerwick ZE1 0AJ</td>\n",
       "      <td>NaN</td>\n",
       "      <td>NaN</td>\n",
       "      <td>Lerwick</td>\n",
       "      <td>Scotland</td>\n",
       "      <td>...</td>\n",
       "      <td>NaN</td>\n",
       "      <td>NaN</td>\n",
       "      <td>NaN</td>\n",
       "      <td>NaN</td>\n",
       "      <td>NaN</td>\n",
       "      <td>Open</td>\n",
       "      <td>NaN</td>\n",
       "      <td>NaN</td>\n",
       "      <td>129.0000</td>\n",
       "      <td>2,022.0000</td>\n",
       "    </tr>\n",
       "    <tr>\n",
       "      <th>3</th>\n",
       "      <td>10511</td>\n",
       "      <td>Royal Bank of Scotland</td>\n",
       "      <td>RBS</td>\n",
       "      <td>Armadale Mobile Branch</td>\n",
       "      <td>Mobile Branch</td>\n",
       "      <td>Ragamuffin shop Armadale IV45 8RQ</td>\n",
       "      <td>NaN</td>\n",
       "      <td>NaN</td>\n",
       "      <td>Armadale, Highland, IV45</td>\n",
       "      <td>Scotland</td>\n",
       "      <td>...</td>\n",
       "      <td>NaN</td>\n",
       "      <td>NaN</td>\n",
       "      <td>NaN</td>\n",
       "      <td>NaN</td>\n",
       "      <td>NaN</td>\n",
       "      <td>Open</td>\n",
       "      <td>NaN</td>\n",
       "      <td>NaN</td>\n",
       "      <td>137.0000</td>\n",
       "      <td>2,022.0000</td>\n",
       "    </tr>\n",
       "    <tr>\n",
       "      <th>4</th>\n",
       "      <td>10483</td>\n",
       "      <td>Royal Bank of Scotland</td>\n",
       "      <td>RBS</td>\n",
       "      <td>Appin Mobile Branch</td>\n",
       "      <td>Mobile Branch</td>\n",
       "      <td>Appin Village Hall (service paused) Appin PA38...</td>\n",
       "      <td>NaN</td>\n",
       "      <td>NaN</td>\n",
       "      <td>Appin</td>\n",
       "      <td>Scotland</td>\n",
       "      <td>...</td>\n",
       "      <td>NaN</td>\n",
       "      <td>NaN</td>\n",
       "      <td>NaN</td>\n",
       "      <td>NaN</td>\n",
       "      <td>NaN</td>\n",
       "      <td>Open</td>\n",
       "      <td>NaN</td>\n",
       "      <td>NaN</td>\n",
       "      <td>3,306.0000</td>\n",
       "      <td>2,022.0000</td>\n",
       "    </tr>\n",
       "  </tbody>\n",
       "</table>\n",
       "<p>5 rows × 25 columns</p>\n",
       "</div>"
      ],
      "text/plain": [
       "      id              brand_full brand_short  \\\n",
       "0  11210                     TSB         TSB   \n",
       "1  10535  Royal Bank of Scotland         RBS   \n",
       "2  10401  Royal Bank of Scotland         RBS   \n",
       "3  10511  Royal Bank of Scotland         RBS   \n",
       "4  10483  Royal Bank of Scotland         RBS   \n",
       "\n",
       "                        branch_name    branch_type  \\\n",
       "0  Louth, The Salvation Army Centre  Pop Up Branch   \n",
       "1                Kyle Mobile Branch  Mobile Branch   \n",
       "2                           Lerwick         Branch   \n",
       "3            Armadale Mobile Branch  Mobile Branch   \n",
       "4               Appin Mobile Branch  Mobile Branch   \n",
       "\n",
       "                                             add_one           add_two suburb  \\\n",
       "0                          The Salvation Army Centre  13 Church Street    NaN   \n",
       "1                         Harbour Slip Kyle IV40 8AF               NaN    NaN   \n",
       "2               81 Commercial Street Lerwick ZE1 0AJ               NaN    NaN   \n",
       "3                  Ragamuffin shop Armadale IV45 8RQ               NaN    NaN   \n",
       "4  Appin Village Hall (service paused) Appin PA38...               NaN    NaN   \n",
       "\n",
       "                       town    region  ... hours_wednesday  hours_thursday  \\\n",
       "0                       NaN       NaN  ...             NaN             NaN   \n",
       "1          Kyle of Lochalsh  Scotland  ...             NaN             NaN   \n",
       "2                   Lerwick  Scotland  ...             NaN             NaN   \n",
       "3  Armadale, Highland, IV45  Scotland  ...             NaN             NaN   \n",
       "4                     Appin  Scotland  ...             NaN             NaN   \n",
       "\n",
       "   hours_friday hours_saturday trading_hours status close_month close_year  \\\n",
       "0           NaN            NaN           NaN   Open         NaN        NaN   \n",
       "1           NaN            NaN           NaN   Open         NaN        NaN   \n",
       "2           NaN            NaN           NaN   Open         NaN        NaN   \n",
       "3           NaN            NaN           NaN   Open         NaN        NaN   \n",
       "4           NaN            NaN           NaN   Open         NaN        NaN   \n",
       "\n",
       "                                   po_dist  \\\n",
       "0                              13,232.0000   \n",
       "1                                 151.0000   \n",
       "2                                 129.0000   \n",
       "3                                 137.0000   \n",
       "4                               3,306.0000   \n",
       "\n",
       "                                 open_year  \n",
       "0                               2,023.0000  \n",
       "1                               2,022.0000  \n",
       "2                               2,022.0000  \n",
       "3                               2,022.0000  \n",
       "4                               2,022.0000  \n",
       "\n",
       "[5 rows x 25 columns]"
      ]
     },
     "execution_count": 6,
     "metadata": {},
     "output_type": "execute_result"
    }
   ],
   "source": [
    "bank_rp.head()"
   ]
  },
  {
   "cell_type": "markdown",
   "id": "f3328be2-c266-48c0-a21a-ad25f4211a67",
   "metadata": {
    "id": "f3328be2-c266-48c0-a21a-ad25f4211a67"
   },
   "source": [
    "Above is the dataset of Retail points of bank of UK. Its a large enough data which contains many relevant columns which will be useful in our analysis."
   ]
  },
  {
   "attachments": {
    "c496d473-b4f0-4fca-8047-7444848c4918.png": {
     "image/png": "[encoded data removed]"
    }
   },
   "cell_type": "markdown",
   "id": "281083ce-a70c-4439-94f7-859e99ff431f",
   "metadata": {
    "id": "281083ce-a70c-4439-94f7-859e99ff431f"
   },
   "source": [
    "**Variable Description**\n",
    "\n",
    "![image.png](attachment:c496d473-b4f0-4fca-8047-7444848c4918.png)"
   ]
  },
  {
   "cell_type": "markdown",
   "id": "804dd15d-1041-4fad-b801-b388b4ff57ff",
   "metadata": {
    "id": "804dd15d-1041-4fad-b801-b388b4ff57ff"
   },
   "source": [
    "**Basic Data Stats**\n",
    "\n",
    "Before attempting to solve the problem, it's very important to have a good understanding of data.\n",
    "\n",
    "The goal of this section is to:\n",
    "- Get the dimensions of data\n",
    "- Get various statistics of data"
   ]
  },
  {
   "cell_type": "code",
   "execution_count": 7,
   "id": "f18e0915-c011-4daa-8702-db3c24a34061",
   "metadata": {
    "colab": {
     "base_uri": "https://localhost:8080/"
    },
    "id": "f18e0915-c011-4daa-8702-db3c24a34061",
    "outputId": "9609d186-5f07-4252-fafb-7776883540bf"
   },
   "outputs": [
    {
     "name": "stdout",
     "output_type": "stream",
     "text": [
      "(11160, 25)\n"
     ]
    }
   ],
   "source": [
    "#Shape of the Dataframe\n",
    "print(bank_rp.shape)"
   ]
  },
  {
   "cell_type": "markdown",
   "id": "2fbec3b0-21b6-4515-ae54-901cd7025468",
   "metadata": {
    "id": "2fbec3b0-21b6-4515-ae54-901cd7025468"
   },
   "source": [
    "The dataset has 11160 rows and 25 columns."
   ]
  },
  {
   "cell_type": "code",
   "execution_count": 8,
   "id": "01cba7df-451c-448b-9657-1aab83cc4ac5",
   "metadata": {
    "colab": {
     "base_uri": "https://localhost:8080/",
     "height": 301
    },
    "id": "01cba7df-451c-448b-9657-1aab83cc4ac5",
    "outputId": "8e303810-7117-4a7d-f0ca-4eda07ee37e2"
   },
   "outputs": [
    {
     "data": {
      "text/html": [
       "<div>\n",
       "<style scoped>\n",
       "    .dataframe tbody tr th:only-of-type {\n",
       "        vertical-align: middle;\n",
       "    }\n",
       "\n",
       "    .dataframe tbody tr th {\n",
       "        vertical-align: top;\n",
       "    }\n",
       "\n",
       "    .dataframe thead th {\n",
       "        text-align: right;\n",
       "    }\n",
       "</style>\n",
       "<table border=\"1\" class=\"dataframe\">\n",
       "  <thead>\n",
       "    <tr style=\"text-align: right;\">\n",
       "      <th></th>\n",
       "      <th>id</th>\n",
       "      <th>long_wgs84</th>\n",
       "      <th>lat_wgs84</th>\n",
       "      <th>trading_hours</th>\n",
       "      <th>close_month</th>\n",
       "      <th>close_year</th>\n",
       "      <th>po_dist</th>\n",
       "      <th>open_year</th>\n",
       "    </tr>\n",
       "  </thead>\n",
       "  <tbody>\n",
       "    <tr>\n",
       "      <th>count</th>\n",
       "      <td>11,160.0000</td>\n",
       "      <td>11,159.0000</td>\n",
       "      <td>11,159.0000</td>\n",
       "      <td>6,268.0000</td>\n",
       "      <td>4,789.0000</td>\n",
       "      <td>5,397.0000</td>\n",
       "      <td>11,159.0000</td>\n",
       "      <td>974.0000</td>\n",
       "    </tr>\n",
       "    <tr>\n",
       "      <th>mean</th>\n",
       "      <td>5,583.0669</td>\n",
       "      <td>-1.8826</td>\n",
       "      <td>52.9223</td>\n",
       "      <td>30.9269</td>\n",
       "      <td>6.8833</td>\n",
       "      <td>2,019.3771</td>\n",
       "      <td>517.6233</td>\n",
       "      <td>2,022.5082</td>\n",
       "    </tr>\n",
       "    <tr>\n",
       "      <th>std</th>\n",
       "      <td>3,225.9791</td>\n",
       "      <td>1.7348</td>\n",
       "      <td>1.8173</td>\n",
       "      <td>11.1935</td>\n",
       "      <td>2.8800</td>\n",
       "      <td>2.5321</td>\n",
       "      <td>5,410.3740</td>\n",
       "      <td>0.5002</td>\n",
       "    </tr>\n",
       "    <tr>\n",
       "      <th>min</th>\n",
       "      <td>1.0000</td>\n",
       "      <td>-8.0919</td>\n",
       "      <td>49.1840</td>\n",
       "      <td>0.0833</td>\n",
       "      <td>1.0000</td>\n",
       "      <td>2,015.0000</td>\n",
       "      <td>0.0000</td>\n",
       "      <td>2,022.0000</td>\n",
       "    </tr>\n",
       "    <tr>\n",
       "      <th>5%</th>\n",
       "      <td>558.9500</td>\n",
       "      <td>-4.9694</td>\n",
       "      <td>50.7901</td>\n",
       "      <td>1.0000</td>\n",
       "      <td>2.0000</td>\n",
       "      <td>2,015.0000</td>\n",
       "      <td>29.0000</td>\n",
       "      <td>2,022.0000</td>\n",
       "    </tr>\n",
       "    <tr>\n",
       "      <th>50%</th>\n",
       "      <td>5,580.5000</td>\n",
       "      <td>-1.7644</td>\n",
       "      <td>52.4805</td>\n",
       "      <td>34.0000</td>\n",
       "      <td>7.0000</td>\n",
       "      <td>2,019.0000</td>\n",
       "      <td>155.0000</td>\n",
       "      <td>2,023.0000</td>\n",
       "    </tr>\n",
       "    <tr>\n",
       "      <th>95%</th>\n",
       "      <td>10,607.0500</td>\n",
       "      <td>0.5233</td>\n",
       "      <td>56.4536</td>\n",
       "      <td>44.0000</td>\n",
       "      <td>11.0000</td>\n",
       "      <td>2,023.0000</td>\n",
       "      <td>867.1000</td>\n",
       "      <td>2,023.0000</td>\n",
       "    </tr>\n",
       "    <tr>\n",
       "      <th>max</th>\n",
       "      <td>11,227.0000</td>\n",
       "      <td>1.7544</td>\n",
       "      <td>60.1552</td>\n",
       "      <td>63.0000</td>\n",
       "      <td>12.0000</td>\n",
       "      <td>2,024.0000</td>\n",
       "      <td>152,883.0000</td>\n",
       "      <td>2,023.0000</td>\n",
       "    </tr>\n",
       "  </tbody>\n",
       "</table>\n",
       "</div>"
      ],
      "text/plain": [
       "                                            id  \\\n",
       "count                              11,160.0000   \n",
       "mean                                5,583.0669   \n",
       "std                                 3,225.9791   \n",
       "min                                     1.0000   \n",
       "5%                                    558.9500   \n",
       "50%                                 5,580.5000   \n",
       "95%                                10,607.0500   \n",
       "max                                11,227.0000   \n",
       "\n",
       "                                    long_wgs84  \\\n",
       "count                              11,159.0000   \n",
       "mean                                   -1.8826   \n",
       "std                                     1.7348   \n",
       "min                                    -8.0919   \n",
       "5%                                     -4.9694   \n",
       "50%                                    -1.7644   \n",
       "95%                                     0.5233   \n",
       "max                                     1.7544   \n",
       "\n",
       "                                     lat_wgs84  \\\n",
       "count                              11,159.0000   \n",
       "mean                                   52.9223   \n",
       "std                                     1.8173   \n",
       "min                                    49.1840   \n",
       "5%                                     50.7901   \n",
       "50%                                    52.4805   \n",
       "95%                                    56.4536   \n",
       "max                                    60.1552   \n",
       "\n",
       "                                 trading_hours  \\\n",
       "count                               6,268.0000   \n",
       "mean                                   30.9269   \n",
       "std                                    11.1935   \n",
       "min                                     0.0833   \n",
       "5%                                      1.0000   \n",
       "50%                                    34.0000   \n",
       "95%                                    44.0000   \n",
       "max                                    63.0000   \n",
       "\n",
       "                                   close_month  \\\n",
       "count                               4,789.0000   \n",
       "mean                                    6.8833   \n",
       "std                                     2.8800   \n",
       "min                                     1.0000   \n",
       "5%                                      2.0000   \n",
       "50%                                     7.0000   \n",
       "95%                                    11.0000   \n",
       "max                                    12.0000   \n",
       "\n",
       "                                    close_year  \\\n",
       "count                               5,397.0000   \n",
       "mean                                2,019.3771   \n",
       "std                                     2.5321   \n",
       "min                                 2,015.0000   \n",
       "5%                                  2,015.0000   \n",
       "50%                                 2,019.0000   \n",
       "95%                                 2,023.0000   \n",
       "max                                 2,024.0000   \n",
       "\n",
       "                                       po_dist  \\\n",
       "count                              11,159.0000   \n",
       "mean                                  517.6233   \n",
       "std                                 5,410.3740   \n",
       "min                                     0.0000   \n",
       "5%                                     29.0000   \n",
       "50%                                   155.0000   \n",
       "95%                                   867.1000   \n",
       "max                               152,883.0000   \n",
       "\n",
       "                                     open_year  \n",
       "count                                 974.0000  \n",
       "mean                                2,022.5082  \n",
       "std                                     0.5002  \n",
       "min                                 2,022.0000  \n",
       "5%                                  2,022.0000  \n",
       "50%                                 2,023.0000  \n",
       "95%                                 2,023.0000  \n",
       "max                                 2,023.0000  "
      ]
     },
     "execution_count": 8,
     "metadata": {},
     "output_type": "execute_result"
    }
   ],
   "source": [
    "# Calculating the Descriptive Statistics\n",
    "bank_rp.describe(percentiles=[.05,0.95])"
   ]
  },
  {
   "cell_type": "markdown",
   "id": "450598f1-2271-46bd-bedd-bdec0d440d06",
   "metadata": {
    "id": "450598f1-2271-46bd-bedd-bdec0d440d06"
   },
   "source": [
    "**Data Cleaning and Analysis**"
   ]
  },
  {
   "cell_type": "code",
   "execution_count": 9,
   "id": "d711d428-7d19-4a76-8cee-8f8341034025",
   "metadata": {
    "colab": {
     "base_uri": "https://localhost:8080/"
    },
    "id": "d711d428-7d19-4a76-8cee-8f8341034025",
    "outputId": "95e33697-aa57-42dd-d1dc-2e9e057682c3"
   },
   "outputs": [
    {
     "name": "stdout",
     "output_type": "stream",
     "text": [
      "<class 'pandas.core.frame.DataFrame'>\n",
      "RangeIndex: 11160 entries, 0 to 11159\n",
      "Data columns (total 25 columns):\n",
      " #   Column           Non-Null Count  Dtype  \n",
      "---  ------           --------------  -----  \n",
      " 0   id               11160 non-null  int64  \n",
      " 1   brand_full       11160 non-null  object \n",
      " 2   brand_short      11160 non-null  object \n",
      " 3   branch_name      10370 non-null  object \n",
      " 4   branch_type      11160 non-null  object \n",
      " 5   add_one          10346 non-null  object \n",
      " 6   add_two          3986 non-null   object \n",
      " 7   suburb           7977 non-null   object \n",
      " 8   town             11136 non-null  object \n",
      " 9   region           10639 non-null  object \n",
      " 10  postcode         10982 non-null  object \n",
      " 11  long_wgs84       11159 non-null  float64\n",
      " 12  lat_wgs84        11159 non-null  float64\n",
      " 13  hours_monday     5885 non-null   object \n",
      " 14  hours_tuesday    5794 non-null   object \n",
      " 15  hours_wednesday  5686 non-null   object \n",
      " 16  hours_thursday   5695 non-null   object \n",
      " 17  hours_friday     5838 non-null   object \n",
      " 18  hours_saturday   2032 non-null   object \n",
      " 19  trading_hours    6268 non-null   float64\n",
      " 20  status           11160 non-null  object \n",
      " 21  close_month      4789 non-null   float64\n",
      " 22  close_year       5397 non-null   float64\n",
      " 23  po_dist          11159 non-null  float64\n",
      " 24  open_year        974 non-null    float64\n",
      "dtypes: float64(7), int64(1), object(17)\n",
      "memory usage: 2.1+ MB\n"
     ]
    }
   ],
   "source": [
    "bank_rp.info(verbose=True) # info() function used to check the dtpye of each column."
   ]
  },
  {
   "cell_type": "markdown",
   "id": "49abe681-c368-4f92-92b5-43ae30e4936e",
   "metadata": {
    "id": "49abe681-c368-4f92-92b5-43ae30e4936e"
   },
   "source": [
    "**Calculating all NaNs and removing it.**"
   ]
  },
  {
   "cell_type": "markdown",
   "id": "cbce2ebd-ed42-4cbd-a55f-396141425034",
   "metadata": {
    "id": "cbce2ebd-ed42-4cbd-a55f-396141425034"
   },
   "source": [
    "**Counting Nulls by column**"
   ]
  },
  {
   "cell_type": "code",
   "execution_count": 10,
   "id": "9ec49505-17b2-4a09-ab40-c68911cd8e26",
   "metadata": {
    "colab": {
     "base_uri": "https://localhost:8080/"
    },
    "id": "9ec49505-17b2-4a09-ab40-c68911cd8e26",
    "outputId": "0614a503-2424-4b49-c594-9c135dc439fa"
   },
   "outputs": [
    {
     "data": {
      "text/plain": [
       "open_year          10186\n",
       "hours_saturday      9128\n",
       "add_two             7174\n",
       "close_month         6371\n",
       "close_year          5763\n",
       "hours_wednesday     5474\n",
       "hours_thursday      5465\n",
       "hours_tuesday       5366\n",
       "hours_friday        5322\n",
       "hours_monday        5275\n",
       "trading_hours       4892\n",
       "suburb              3183\n",
       "dtype: int64"
      ]
     },
     "execution_count": 10,
     "metadata": {},
     "output_type": "execute_result"
    }
   ],
   "source": [
    "bank_rp.isnull().sum(axis=0).sort_values(ascending=False)[:12] #Using the .isnull().sum() function to count the number of empty columns."
   ]
  },
  {
   "cell_type": "markdown",
   "id": "d76db8b0-a7fc-4e08-961f-62a2e44f8d98",
   "metadata": {
    "id": "d76db8b0-a7fc-4e08-961f-62a2e44f8d98"
   },
   "source": [
    "**Dropping those columns which have highest number of NULL values and are not needed in our analysis. Additionally removing some columns like add_one, suburb, town.**"
   ]
  },
  {
   "cell_type": "code",
   "execution_count": 11,
   "id": "19b66d2f-0fd1-4878-9dd4-b5babf01b5a0",
   "metadata": {
    "id": "19b66d2f-0fd1-4878-9dd4-b5babf01b5a0"
   },
   "outputs": [],
   "source": [
    "bank_rp.drop(columns=['brand_short','open_year','hours_saturday','add_one','add_two', 'suburb','town','hours_wednesday', 'hours_thursday','hours_friday','hours_monday', 'hours_tuesday', 'trading_hours'], inplace=True)"
   ]
  },
  {
   "cell_type": "markdown",
   "id": "98f5f94c-d3b7-4392-bc68-96bcf139d4fc",
   "metadata": {
    "id": "98f5f94c-d3b7-4392-bc68-96bcf139d4fc"
   },
   "source": [
    "**Counting Nulls by rows**"
   ]
  },
  {
   "cell_type": "code",
   "execution_count": 12,
   "id": "54f3f7cb-a2c0-48e2-8d46-ab515a3fb498",
   "metadata": {
    "colab": {
     "base_uri": "https://localhost:8080/"
    },
    "id": "54f3f7cb-a2c0-48e2-8d46-ab515a3fb498",
    "outputId": "5ea737de-ecfd-4d62-d9ab-edb4892270c6"
   },
   "outputs": [
    {
     "data": {
      "text/plain": [
       "8199     4\n",
       "8248     4\n",
       "11136    4\n",
       "8268     4\n",
       "1132     4\n",
       "8249     4\n",
       "8247     4\n",
       "7900     3\n",
       "7907     3\n",
       "7914     3\n",
       "0        3\n",
       "7871     3\n",
       "7931     3\n",
       "7945     3\n",
       "7964     3\n",
       "8000     3\n",
       "7879     3\n",
       "7841     3\n",
       "7855     3\n",
       "8020     3\n",
       "dtype: int64"
      ]
     },
     "execution_count": 12,
     "metadata": {},
     "output_type": "execute_result"
    }
   ],
   "source": [
    "bank_rp.isnull().sum(axis=1).sort_values(ascending=False).head(20)"
   ]
  },
  {
   "cell_type": "code",
   "execution_count": 13,
   "id": "49bb6b28-1870-4925-bb51-932df99d939d",
   "metadata": {
    "colab": {
     "base_uri": "https://localhost:8080/"
    },
    "id": "49bb6b28-1870-4925-bb51-932df99d939d",
    "outputId": "0a039489-7a85-4463-9f9a-5a6cec8c55a4"
   },
   "outputs": [
    {
     "data": {
      "text/plain": [
       "Index(['id', 'brand_full', 'branch_name', 'branch_type', 'region', 'postcode',\n",
       "       'long_wgs84', 'lat_wgs84', 'status', 'close_month', 'close_year',\n",
       "       'po_dist'],\n",
       "      dtype='object')"
      ]
     },
     "execution_count": 13,
     "metadata": {},
     "output_type": "execute_result"
    }
   ],
   "source": [
    "bank_rp.columns"
   ]
  },
  {
   "cell_type": "markdown",
   "id": "e68fbbe1-6fd2-4594-abf1-4c01508d10be",
   "metadata": {
    "id": "e68fbbe1-6fd2-4594-abf1-4c01508d10be"
   },
   "source": [
    "In `bank_rp`, there are two data types: categorical (aka `object`), and numerical (including `int64` and `float64`).\n",
    "\n",
    "Before undertaking Classification, some data aprocessing should be done, which include:\n",
    "- Converting categorical variables into dummy variables (aka one-hot encoding);\n",
    "- Split the data into training and testing sets;\n",
    "\n",
    "One note, the reason for doing one-hot encoding is that sklearn decision trees don't handle categorical data."
   ]
  },
  {
   "cell_type": "markdown",
   "id": "4e9b10f1-9b0f-45c4-b4a8-058b6d0dc890",
   "metadata": {
    "id": "4e9b10f1-9b0f-45c4-b4a8-058b6d0dc890"
   },
   "source": [
    "**Before using any  ML models we need to identify columns which we will be using in our analysis and if there are any missing values we will try to enrich the data and fill it with appropriate values.**"
   ]
  },
  {
   "cell_type": "markdown",
   "id": "0f6ce334-1c79-459d-8591-7106f7640227",
   "metadata": {
    "id": "0f6ce334-1c79-459d-8591-7106f7640227"
   },
   "source": [
    "Now we all filling the region NaN value with columns who have same postcode."
   ]
  },
  {
   "cell_type": "code",
   "execution_count": 14,
   "id": "3b0aa0a1-0955-4fc2-ac3c-b47f235e2697",
   "metadata": {
    "colab": {
     "base_uri": "https://localhost:8080/",
     "height": 424
    },
    "id": "3b0aa0a1-0955-4fc2-ac3c-b47f235e2697",
    "outputId": "a3b58abe-1f20-4302-bed2-bb63d8299db3"
   },
   "outputs": [
    {
     "data": {
      "text/html": [
       "<div>\n",
       "<style scoped>\n",
       "    .dataframe tbody tr th:only-of-type {\n",
       "        vertical-align: middle;\n",
       "    }\n",
       "\n",
       "    .dataframe tbody tr th {\n",
       "        vertical-align: top;\n",
       "    }\n",
       "\n",
       "    .dataframe thead th {\n",
       "        text-align: right;\n",
       "    }\n",
       "</style>\n",
       "<table border=\"1\" class=\"dataframe\">\n",
       "  <thead>\n",
       "    <tr style=\"text-align: right;\">\n",
       "      <th></th>\n",
       "      <th>id</th>\n",
       "      <th>brand_full</th>\n",
       "      <th>branch_name</th>\n",
       "      <th>branch_type</th>\n",
       "      <th>region</th>\n",
       "      <th>postcode</th>\n",
       "      <th>long_wgs84</th>\n",
       "      <th>lat_wgs84</th>\n",
       "      <th>status</th>\n",
       "      <th>close_month</th>\n",
       "      <th>close_year</th>\n",
       "      <th>po_dist</th>\n",
       "    </tr>\n",
       "  </thead>\n",
       "  <tbody>\n",
       "    <tr>\n",
       "      <th>0</th>\n",
       "      <td>11210</td>\n",
       "      <td>TSB</td>\n",
       "      <td>Louth, The Salvation Army Centre</td>\n",
       "      <td>Pop Up Branch</td>\n",
       "      <td>NaN</td>\n",
       "      <td>LN11 9BS</td>\n",
       "      <td>-6.5407</td>\n",
       "      <td>53.9508</td>\n",
       "      <td>Open</td>\n",
       "      <td>NaN</td>\n",
       "      <td>NaN</td>\n",
       "      <td>13,232.0000</td>\n",
       "    </tr>\n",
       "    <tr>\n",
       "      <th>663</th>\n",
       "      <td>10287</td>\n",
       "      <td>NatWest</td>\n",
       "      <td>St Helier</td>\n",
       "      <td>Branch</td>\n",
       "      <td>NaN</td>\n",
       "      <td>JE4 8NH</td>\n",
       "      <td>-2.1433</td>\n",
       "      <td>49.2177</td>\n",
       "      <td>Open</td>\n",
       "      <td>NaN</td>\n",
       "      <td>NaN</td>\n",
       "      <td>148,786.0000</td>\n",
       "    </tr>\n",
       "    <tr>\n",
       "      <th>1034</th>\n",
       "      <td>4560</td>\n",
       "      <td>Lloyds</td>\n",
       "      <td>Jersey - Five Oaks</td>\n",
       "      <td>Branch</td>\n",
       "      <td>NaN</td>\n",
       "      <td>JE2 7TY</td>\n",
       "      <td>-2.0829</td>\n",
       "      <td>49.1962</td>\n",
       "      <td>Open</td>\n",
       "      <td>NaN</td>\n",
       "      <td>NaN</td>\n",
       "      <td>151,841.0000</td>\n",
       "    </tr>\n",
       "    <tr>\n",
       "      <th>3084</th>\n",
       "      <td>10709</td>\n",
       "      <td>NatWest</td>\n",
       "      <td>Acton Banking Hub</td>\n",
       "      <td>Banking Hub</td>\n",
       "      <td>NaN</td>\n",
       "      <td>BS27 3RB</td>\n",
       "      <td>-0.2702</td>\n",
       "      <td>51.5077</td>\n",
       "      <td>Open</td>\n",
       "      <td>NaN</td>\n",
       "      <td>NaN</td>\n",
       "      <td>993.0000</td>\n",
       "    </tr>\n",
       "    <tr>\n",
       "      <th>4338</th>\n",
       "      <td>11115</td>\n",
       "      <td>Barclays</td>\n",
       "      <td>Local - Holt</td>\n",
       "      <td>Local Pod</td>\n",
       "      <td>NaN</td>\n",
       "      <td>NR25 6DN</td>\n",
       "      <td>1.0895</td>\n",
       "      <td>52.9045</td>\n",
       "      <td>Open</td>\n",
       "      <td>NaN</td>\n",
       "      <td>NaN</td>\n",
       "      <td>124.0000</td>\n",
       "    </tr>\n",
       "    <tr>\n",
       "      <th>...</th>\n",
       "      <td>...</td>\n",
       "      <td>...</td>\n",
       "      <td>...</td>\n",
       "      <td>...</td>\n",
       "      <td>...</td>\n",
       "      <td>...</td>\n",
       "      <td>...</td>\n",
       "      <td>...</td>\n",
       "      <td>...</td>\n",
       "      <td>...</td>\n",
       "      <td>...</td>\n",
       "      <td>...</td>\n",
       "    </tr>\n",
       "    <tr>\n",
       "      <th>11135</th>\n",
       "      <td>10285</td>\n",
       "      <td>NatWest</td>\n",
       "      <td>St Brelade</td>\n",
       "      <td>Branch</td>\n",
       "      <td>NaN</td>\n",
       "      <td>JE3 8FX</td>\n",
       "      <td>-2.1985</td>\n",
       "      <td>49.1934</td>\n",
       "      <td>Open</td>\n",
       "      <td>NaN</td>\n",
       "      <td>NaN</td>\n",
       "      <td>150,942.0000</td>\n",
       "    </tr>\n",
       "    <tr>\n",
       "      <th>11136</th>\n",
       "      <td>10281</td>\n",
       "      <td>NatWest</td>\n",
       "      <td>Sark Post Office</td>\n",
       "      <td>Branch</td>\n",
       "      <td>NaN</td>\n",
       "      <td>NaN</td>\n",
       "      <td>-2.3512</td>\n",
       "      <td>49.4321</td>\n",
       "      <td>Open</td>\n",
       "      <td>NaN</td>\n",
       "      <td>NaN</td>\n",
       "      <td>123,543.0000</td>\n",
       "    </tr>\n",
       "    <tr>\n",
       "      <th>11146</th>\n",
       "      <td>10699</td>\n",
       "      <td>Virgin Money</td>\n",
       "      <td>Tobermory</td>\n",
       "      <td>Branch</td>\n",
       "      <td>NaN</td>\n",
       "      <td>PA75 6NU</td>\n",
       "      <td>-6.0673</td>\n",
       "      <td>56.6231</td>\n",
       "      <td>Open</td>\n",
       "      <td>NaN</td>\n",
       "      <td>NaN</td>\n",
       "      <td>323.0000</td>\n",
       "    </tr>\n",
       "    <tr>\n",
       "      <th>11152</th>\n",
       "      <td>10273</td>\n",
       "      <td>NatWest</td>\n",
       "      <td>St Helier</td>\n",
       "      <td>Branch</td>\n",
       "      <td>NaN</td>\n",
       "      <td>JE4 8PJ</td>\n",
       "      <td>-2.1021</td>\n",
       "      <td>49.1860</td>\n",
       "      <td>Open</td>\n",
       "      <td>NaN</td>\n",
       "      <td>NaN</td>\n",
       "      <td>152,722.0000</td>\n",
       "    </tr>\n",
       "    <tr>\n",
       "      <th>11159</th>\n",
       "      <td>10713</td>\n",
       "      <td>NatWest</td>\n",
       "      <td>NatWest Preston</td>\n",
       "      <td>Branch</td>\n",
       "      <td>NaN</td>\n",
       "      <td>PR1 2AE</td>\n",
       "      <td>-2.7051</td>\n",
       "      <td>53.7572</td>\n",
       "      <td>Open</td>\n",
       "      <td>NaN</td>\n",
       "      <td>NaN</td>\n",
       "      <td>78.0000</td>\n",
       "    </tr>\n",
       "  </tbody>\n",
       "</table>\n",
       "<p>521 rows × 12 columns</p>\n",
       "</div>"
      ],
      "text/plain": [
       "          id    brand_full                       branch_name    branch_type  \\\n",
       "0      11210           TSB  Louth, The Salvation Army Centre  Pop Up Branch   \n",
       "663    10287       NatWest                         St Helier         Branch   \n",
       "1034    4560        Lloyds                Jersey - Five Oaks         Branch   \n",
       "3084   10709       NatWest                 Acton Banking Hub    Banking Hub   \n",
       "4338   11115      Barclays                      Local - Holt      Local Pod   \n",
       "...      ...           ...                               ...            ...   \n",
       "11135  10285       NatWest                        St Brelade         Branch   \n",
       "11136  10281       NatWest                  Sark Post Office         Branch   \n",
       "11146  10699  Virgin Money                         Tobermory         Branch   \n",
       "11152  10273       NatWest                         St Helier         Branch   \n",
       "11159  10713       NatWest                   NatWest Preston         Branch   \n",
       "\n",
       "      region  postcode                               long_wgs84  \\\n",
       "0        NaN  LN11 9BS                                  -6.5407   \n",
       "663      NaN   JE4 8NH                                  -2.1433   \n",
       "1034     NaN   JE2 7TY                                  -2.0829   \n",
       "3084     NaN  BS27 3RB                                  -0.2702   \n",
       "4338     NaN  NR25 6DN                                   1.0895   \n",
       "...      ...       ...                                      ...   \n",
       "11135    NaN   JE3 8FX                                  -2.1985   \n",
       "11136    NaN       NaN                                  -2.3512   \n",
       "11146    NaN  PA75 6NU                                  -6.0673   \n",
       "11152    NaN   JE4 8PJ                                  -2.1021   \n",
       "11159    NaN   PR1 2AE                                  -2.7051   \n",
       "\n",
       "                                     lat_wgs84 status  close_month  \\\n",
       "0                                      53.9508   Open          NaN   \n",
       "663                                    49.2177   Open          NaN   \n",
       "1034                                   49.1962   Open          NaN   \n",
       "3084                                   51.5077   Open          NaN   \n",
       "4338                                   52.9045   Open          NaN   \n",
       "...                                        ...    ...          ...   \n",
       "11135                                  49.1934   Open          NaN   \n",
       "11136                                  49.4321   Open          NaN   \n",
       "11146                                  56.6231   Open          NaN   \n",
       "11152                                  49.1860   Open          NaN   \n",
       "11159                                  53.7572   Open          NaN   \n",
       "\n",
       "       close_year                                  po_dist  \n",
       "0             NaN                              13,232.0000  \n",
       "663           NaN                             148,786.0000  \n",
       "1034          NaN                             151,841.0000  \n",
       "3084          NaN                                 993.0000  \n",
       "4338          NaN                                 124.0000  \n",
       "...           ...                                      ...  \n",
       "11135         NaN                             150,942.0000  \n",
       "11136         NaN                             123,543.0000  \n",
       "11146         NaN                                 323.0000  \n",
       "11152         NaN                             152,722.0000  \n",
       "11159         NaN                                  78.0000  \n",
       "\n",
       "[521 rows x 12 columns]"
      ]
     },
     "execution_count": 14,
     "metadata": {},
     "output_type": "execute_result"
    }
   ],
   "source": [
    "bank_rp[bank_rp.region.isna()]"
   ]
  },
  {
   "cell_type": "markdown",
   "id": "bdf845fa-1d97-4ee1-8370-c9636da979fd",
   "metadata": {
    "id": "bdf845fa-1d97-4ee1-8370-c9636da979fd"
   },
   "source": [
    "**So, we have 521 rows where region has NaN value.**"
   ]
  },
  {
   "cell_type": "code",
   "execution_count": 15,
   "id": "4cbd3646-4e36-4351-b04e-ac8d2598e16e",
   "metadata": {
    "id": "4cbd3646-4e36-4351-b04e-ac8d2598e16e"
   },
   "outputs": [],
   "source": [
    "# taken a separate dataframe to store region\n",
    "df1 = bank_rp[bank_rp.region.isna()]"
   ]
  },
  {
   "cell_type": "code",
   "execution_count": 17,
   "id": "9544f8fb-4c89-4c5c-bcb8-965736096f03",
   "metadata": {
    "colab": {
     "base_uri": "https://localhost:8080/"
    },
    "id": "9544f8fb-4c89-4c5c-bcb8-965736096f03",
    "outputId": "b8ff0233-881a-4abf-d367-1da85d454338"
   },
   "outputs": [
    {
     "data": {
      "text/plain": [
       "array([nan, 'Scotland', 'South East', 'Northern Ireland', 'London',\n",
       "       'North West', 'East Midlands', 'Yorkshire and The Humber',\n",
       "       'West Midlands', 'Wales', 'Eastern', 'South West', 'North East'],\n",
       "      dtype=object)"
      ]
     },
     "execution_count": 17,
     "metadata": {},
     "output_type": "execute_result"
    }
   ],
   "source": [
    "# Checking the unique value for region.\n",
    "bank_rp.region.unique()"
   ]
  },
  {
   "cell_type": "code",
   "execution_count": 19,
   "id": "cff4ad96-605d-41d4-bb55-c928b05c1f3e",
   "metadata": {
    "id": "cff4ad96-605d-41d4-bb55-c928b05c1f3e"
   },
   "outputs": [],
   "source": [
    "# Removing the spaces between the postcode.\n",
    "bank_rp['postcode'] = bank_rp['postcode'].replace('\\s+', '', regex=True)"
   ]
  },
  {
   "cell_type": "code",
   "execution_count": 20,
   "id": "74cc87f5-4700-4dd4-bc1c-45a36b8ed673",
   "metadata": {
    "colab": {
     "base_uri": "https://localhost:8080/"
    },
    "id": "74cc87f5-4700-4dd4-bc1c-45a36b8ed673",
    "outputId": "2ecd8399-e970-4ea3-80b5-85f053b0b79e"
   },
   "outputs": [
    {
     "data": {
      "text/plain": [
       "0        LN119BS\n",
       "1        IV408AF\n",
       "2         ZE10AJ\n",
       "3        IV458RQ\n",
       "4        PA384BG\n",
       "          ...   \n",
       "11155     CR91PD\n",
       "11156     G131LT\n",
       "11157    PA427EL\n",
       "11158    PA427DJ\n",
       "11159     PR12AE\n",
       "Name: postcode, Length: 11160, dtype: object"
      ]
     },
     "execution_count": 20,
     "metadata": {},
     "output_type": "execute_result"
    }
   ],
   "source": [
    "bank_rp['postcode']"
   ]
  },
  {
   "cell_type": "code",
   "execution_count": 22,
   "id": "ddbfee9a-e97f-4846-8171-84c23292156f",
   "metadata": {
    "id": "ddbfee9a-e97f-4846-8171-84c23292156f"
   },
   "outputs": [],
   "source": [
    "df2 = pd.DataFrame(bank_rp['region']) #storing region in different dataframe."
   ]
  },
  {
   "cell_type": "code",
   "execution_count": 23,
   "id": "1a5d2576-9a4d-4a4d-b3b7-394629bbc9c5",
   "metadata": {
    "id": "1a5d2576-9a4d-4a4d-b3b7-394629bbc9c5"
   },
   "outputs": [],
   "source": [
    "df2['postcode'] = bank_rp['postcode'] #Adding postcode column to df2."
   ]
  },
  {
   "cell_type": "code",
   "execution_count": 24,
   "id": "df004a73-c741-4dd6-afa0-668a08ca7a24",
   "metadata": {
    "id": "df004a73-c741-4dd6-afa0-668a08ca7a24"
   },
   "outputs": [],
   "source": [
    "df2.dropna(inplace = True)"
   ]
  },
  {
   "cell_type": "code",
   "execution_count": 25,
   "id": "9fae9127-8663-4030-9609-5502d4019ebc",
   "metadata": {
    "colab": {
     "base_uri": "https://localhost:8080/",
     "height": 424
    },
    "id": "9fae9127-8663-4030-9609-5502d4019ebc",
    "outputId": "7fbe9219-d9f7-47cc-af09-37238a88320e"
   },
   "outputs": [
    {
     "data": {
      "text/html": [
       "<div>\n",
       "<style scoped>\n",
       "    .dataframe tbody tr th:only-of-type {\n",
       "        vertical-align: middle;\n",
       "    }\n",
       "\n",
       "    .dataframe tbody tr th {\n",
       "        vertical-align: top;\n",
       "    }\n",
       "\n",
       "    .dataframe thead th {\n",
       "        text-align: right;\n",
       "    }\n",
       "</style>\n",
       "<table border=\"1\" class=\"dataframe\">\n",
       "  <thead>\n",
       "    <tr style=\"text-align: right;\">\n",
       "      <th></th>\n",
       "      <th>region</th>\n",
       "      <th>postcode</th>\n",
       "    </tr>\n",
       "  </thead>\n",
       "  <tbody>\n",
       "    <tr>\n",
       "      <th>1</th>\n",
       "      <td>Scotland</td>\n",
       "      <td>IV408AF</td>\n",
       "    </tr>\n",
       "    <tr>\n",
       "      <th>2</th>\n",
       "      <td>Scotland</td>\n",
       "      <td>ZE10AJ</td>\n",
       "    </tr>\n",
       "    <tr>\n",
       "      <th>3</th>\n",
       "      <td>Scotland</td>\n",
       "      <td>IV458RQ</td>\n",
       "    </tr>\n",
       "    <tr>\n",
       "      <th>4</th>\n",
       "      <td>Scotland</td>\n",
       "      <td>PA384BG</td>\n",
       "    </tr>\n",
       "    <tr>\n",
       "      <th>5</th>\n",
       "      <td>Scotland</td>\n",
       "      <td>PH414QT</td>\n",
       "    </tr>\n",
       "    <tr>\n",
       "      <th>...</th>\n",
       "      <td>...</td>\n",
       "      <td>...</td>\n",
       "    </tr>\n",
       "    <tr>\n",
       "      <th>11154</th>\n",
       "      <td>South West</td>\n",
       "      <td>BS13EU</td>\n",
       "    </tr>\n",
       "    <tr>\n",
       "      <th>11155</th>\n",
       "      <td>London</td>\n",
       "      <td>CR91PD</td>\n",
       "    </tr>\n",
       "    <tr>\n",
       "      <th>11156</th>\n",
       "      <td>Scotland</td>\n",
       "      <td>G131LT</td>\n",
       "    </tr>\n",
       "    <tr>\n",
       "      <th>11157</th>\n",
       "      <td>Scotland</td>\n",
       "      <td>PA427EL</td>\n",
       "    </tr>\n",
       "    <tr>\n",
       "      <th>11158</th>\n",
       "      <td>Scotland</td>\n",
       "      <td>PA427DJ</td>\n",
       "    </tr>\n",
       "  </tbody>\n",
       "</table>\n",
       "<p>10462 rows × 2 columns</p>\n",
       "</div>"
      ],
      "text/plain": [
       "           region postcode\n",
       "1        Scotland  IV408AF\n",
       "2        Scotland   ZE10AJ\n",
       "3        Scotland  IV458RQ\n",
       "4        Scotland  PA384BG\n",
       "5        Scotland  PH414QT\n",
       "...           ...      ...\n",
       "11154  South West   BS13EU\n",
       "11155      London   CR91PD\n",
       "11156    Scotland   G131LT\n",
       "11157    Scotland  PA427EL\n",
       "11158    Scotland  PA427DJ\n",
       "\n",
       "[10462 rows x 2 columns]"
      ]
     },
     "execution_count": 25,
     "metadata": {},
     "output_type": "execute_result"
    }
   ],
   "source": [
    "df2 "
   ]
  },
  {
   "cell_type": "code",
   "execution_count": 26,
   "id": "2acd5ec1-0b2d-4a7b-98c4-aa4be76a764c",
   "metadata": {
    "id": "2acd5ec1-0b2d-4a7b-98c4-aa4be76a764c"
   },
   "outputs": [],
   "source": [
    "# Imputing region based on postcode information\n",
    "\n",
    "for ind in bank_rp[bank_rp.region.isna() == True].index:\n",
    "    val = bank_rp.postcode[ind]\n",
    "    for i in df2.index:\n",
    "        if df2.postcode[i] == val:\n",
    "            bank_rp.region[ind] = df2.region[i]\n",
    "            break\n"
   ]
  },
  {
   "cell_type": "markdown",
   "id": "32ef0ecd-a0a6-4de2-9703-bc51399960f5",
   "metadata": {
    "id": "32ef0ecd-a0a6-4de2-9703-bc51399960f5"
   },
   "source": [
    "Here we have tried to fill all regions with NULL value which has the same postcode. So this way we can reduce the null values and fill it with appropriate value."
   ]
  },
  {
   "cell_type": "code",
   "execution_count": 27,
   "id": "254801bd-6a14-4687-909f-83ae99f3549f",
   "metadata": {
    "colab": {
     "base_uri": "https://localhost:8080/",
     "height": 424
    },
    "id": "254801bd-6a14-4687-909f-83ae99f3549f",
    "outputId": "e6eac803-54ff-4613-b5f5-6d6094b3adf5"
   },
   "outputs": [
    {
     "data": {
      "text/html": [
       "<div>\n",
       "<style scoped>\n",
       "    .dataframe tbody tr th:only-of-type {\n",
       "        vertical-align: middle;\n",
       "    }\n",
       "\n",
       "    .dataframe tbody tr th {\n",
       "        vertical-align: top;\n",
       "    }\n",
       "\n",
       "    .dataframe thead th {\n",
       "        text-align: right;\n",
       "    }\n",
       "</style>\n",
       "<table border=\"1\" class=\"dataframe\">\n",
       "  <thead>\n",
       "    <tr style=\"text-align: right;\">\n",
       "      <th></th>\n",
       "      <th>id</th>\n",
       "      <th>brand_full</th>\n",
       "      <th>branch_name</th>\n",
       "      <th>branch_type</th>\n",
       "      <th>region</th>\n",
       "      <th>postcode</th>\n",
       "      <th>long_wgs84</th>\n",
       "      <th>lat_wgs84</th>\n",
       "      <th>status</th>\n",
       "      <th>close_month</th>\n",
       "      <th>close_year</th>\n",
       "      <th>po_dist</th>\n",
       "    </tr>\n",
       "  </thead>\n",
       "  <tbody>\n",
       "    <tr>\n",
       "      <th>0</th>\n",
       "      <td>11210</td>\n",
       "      <td>TSB</td>\n",
       "      <td>Louth, The Salvation Army Centre</td>\n",
       "      <td>Pop Up Branch</td>\n",
       "      <td>NaN</td>\n",
       "      <td>LN119BS</td>\n",
       "      <td>-6.5407</td>\n",
       "      <td>53.9508</td>\n",
       "      <td>Open</td>\n",
       "      <td>NaN</td>\n",
       "      <td>NaN</td>\n",
       "      <td>13,232.0000</td>\n",
       "    </tr>\n",
       "    <tr>\n",
       "      <th>663</th>\n",
       "      <td>10287</td>\n",
       "      <td>NatWest</td>\n",
       "      <td>St Helier</td>\n",
       "      <td>Branch</td>\n",
       "      <td>NaN</td>\n",
       "      <td>JE48NH</td>\n",
       "      <td>-2.1433</td>\n",
       "      <td>49.2177</td>\n",
       "      <td>Open</td>\n",
       "      <td>NaN</td>\n",
       "      <td>NaN</td>\n",
       "      <td>148,786.0000</td>\n",
       "    </tr>\n",
       "    <tr>\n",
       "      <th>1034</th>\n",
       "      <td>4560</td>\n",
       "      <td>Lloyds</td>\n",
       "      <td>Jersey - Five Oaks</td>\n",
       "      <td>Branch</td>\n",
       "      <td>NaN</td>\n",
       "      <td>JE27TY</td>\n",
       "      <td>-2.0829</td>\n",
       "      <td>49.1962</td>\n",
       "      <td>Open</td>\n",
       "      <td>NaN</td>\n",
       "      <td>NaN</td>\n",
       "      <td>151,841.0000</td>\n",
       "    </tr>\n",
       "    <tr>\n",
       "      <th>3084</th>\n",
       "      <td>10709</td>\n",
       "      <td>NatWest</td>\n",
       "      <td>Acton Banking Hub</td>\n",
       "      <td>Banking Hub</td>\n",
       "      <td>NaN</td>\n",
       "      <td>BS273RB</td>\n",
       "      <td>-0.2702</td>\n",
       "      <td>51.5077</td>\n",
       "      <td>Open</td>\n",
       "      <td>NaN</td>\n",
       "      <td>NaN</td>\n",
       "      <td>993.0000</td>\n",
       "    </tr>\n",
       "    <tr>\n",
       "      <th>4338</th>\n",
       "      <td>11115</td>\n",
       "      <td>Barclays</td>\n",
       "      <td>Local - Holt</td>\n",
       "      <td>Local Pod</td>\n",
       "      <td>NaN</td>\n",
       "      <td>NR256DN</td>\n",
       "      <td>1.0895</td>\n",
       "      <td>52.9045</td>\n",
       "      <td>Open</td>\n",
       "      <td>NaN</td>\n",
       "      <td>NaN</td>\n",
       "      <td>124.0000</td>\n",
       "    </tr>\n",
       "    <tr>\n",
       "      <th>...</th>\n",
       "      <td>...</td>\n",
       "      <td>...</td>\n",
       "      <td>...</td>\n",
       "      <td>...</td>\n",
       "      <td>...</td>\n",
       "      <td>...</td>\n",
       "      <td>...</td>\n",
       "      <td>...</td>\n",
       "      <td>...</td>\n",
       "      <td>...</td>\n",
       "      <td>...</td>\n",
       "      <td>...</td>\n",
       "    </tr>\n",
       "    <tr>\n",
       "      <th>11134</th>\n",
       "      <td>10280</td>\n",
       "      <td>NatWest</td>\n",
       "      <td>Cobo</td>\n",
       "      <td>Branch</td>\n",
       "      <td>NaN</td>\n",
       "      <td>GY57HA</td>\n",
       "      <td>-2.5970</td>\n",
       "      <td>49.4676</td>\n",
       "      <td>Open</td>\n",
       "      <td>NaN</td>\n",
       "      <td>NaN</td>\n",
       "      <td>116,973.0000</td>\n",
       "    </tr>\n",
       "    <tr>\n",
       "      <th>11135</th>\n",
       "      <td>10285</td>\n",
       "      <td>NatWest</td>\n",
       "      <td>St Brelade</td>\n",
       "      <td>Branch</td>\n",
       "      <td>NaN</td>\n",
       "      <td>JE38FX</td>\n",
       "      <td>-2.1985</td>\n",
       "      <td>49.1934</td>\n",
       "      <td>Open</td>\n",
       "      <td>NaN</td>\n",
       "      <td>NaN</td>\n",
       "      <td>150,942.0000</td>\n",
       "    </tr>\n",
       "    <tr>\n",
       "      <th>11136</th>\n",
       "      <td>10281</td>\n",
       "      <td>NatWest</td>\n",
       "      <td>Sark Post Office</td>\n",
       "      <td>Branch</td>\n",
       "      <td>NaN</td>\n",
       "      <td>NaN</td>\n",
       "      <td>-2.3512</td>\n",
       "      <td>49.4321</td>\n",
       "      <td>Open</td>\n",
       "      <td>NaN</td>\n",
       "      <td>NaN</td>\n",
       "      <td>123,543.0000</td>\n",
       "    </tr>\n",
       "    <tr>\n",
       "      <th>11146</th>\n",
       "      <td>10699</td>\n",
       "      <td>Virgin Money</td>\n",
       "      <td>Tobermory</td>\n",
       "      <td>Branch</td>\n",
       "      <td>NaN</td>\n",
       "      <td>PA756NU</td>\n",
       "      <td>-6.0673</td>\n",
       "      <td>56.6231</td>\n",
       "      <td>Open</td>\n",
       "      <td>NaN</td>\n",
       "      <td>NaN</td>\n",
       "      <td>323.0000</td>\n",
       "    </tr>\n",
       "    <tr>\n",
       "      <th>11152</th>\n",
       "      <td>10273</td>\n",
       "      <td>NatWest</td>\n",
       "      <td>St Helier</td>\n",
       "      <td>Branch</td>\n",
       "      <td>NaN</td>\n",
       "      <td>JE48PJ</td>\n",
       "      <td>-2.1021</td>\n",
       "      <td>49.1860</td>\n",
       "      <td>Open</td>\n",
       "      <td>NaN</td>\n",
       "      <td>NaN</td>\n",
       "      <td>152,722.0000</td>\n",
       "    </tr>\n",
       "  </tbody>\n",
       "</table>\n",
       "<p>477 rows × 12 columns</p>\n",
       "</div>"
      ],
      "text/plain": [
       "          id    brand_full                       branch_name    branch_type  \\\n",
       "0      11210           TSB  Louth, The Salvation Army Centre  Pop Up Branch   \n",
       "663    10287       NatWest                         St Helier         Branch   \n",
       "1034    4560        Lloyds                Jersey - Five Oaks         Branch   \n",
       "3084   10709       NatWest                 Acton Banking Hub    Banking Hub   \n",
       "4338   11115      Barclays                      Local - Holt      Local Pod   \n",
       "...      ...           ...                               ...            ...   \n",
       "11134  10280       NatWest                              Cobo         Branch   \n",
       "11135  10285       NatWest                        St Brelade         Branch   \n",
       "11136  10281       NatWest                  Sark Post Office         Branch   \n",
       "11146  10699  Virgin Money                         Tobermory         Branch   \n",
       "11152  10273       NatWest                         St Helier         Branch   \n",
       "\n",
       "      region postcode                               long_wgs84  \\\n",
       "0        NaN  LN119BS                                  -6.5407   \n",
       "663      NaN   JE48NH                                  -2.1433   \n",
       "1034     NaN   JE27TY                                  -2.0829   \n",
       "3084     NaN  BS273RB                                  -0.2702   \n",
       "4338     NaN  NR256DN                                   1.0895   \n",
       "...      ...      ...                                      ...   \n",
       "11134    NaN   GY57HA                                  -2.5970   \n",
       "11135    NaN   JE38FX                                  -2.1985   \n",
       "11136    NaN      NaN                                  -2.3512   \n",
       "11146    NaN  PA756NU                                  -6.0673   \n",
       "11152    NaN   JE48PJ                                  -2.1021   \n",
       "\n",
       "                                     lat_wgs84 status  close_month  \\\n",
       "0                                      53.9508   Open          NaN   \n",
       "663                                    49.2177   Open          NaN   \n",
       "1034                                   49.1962   Open          NaN   \n",
       "3084                                   51.5077   Open          NaN   \n",
       "4338                                   52.9045   Open          NaN   \n",
       "...                                        ...    ...          ...   \n",
       "11134                                  49.4676   Open          NaN   \n",
       "11135                                  49.1934   Open          NaN   \n",
       "11136                                  49.4321   Open          NaN   \n",
       "11146                                  56.6231   Open          NaN   \n",
       "11152                                  49.1860   Open          NaN   \n",
       "\n",
       "       close_year                                  po_dist  \n",
       "0             NaN                              13,232.0000  \n",
       "663           NaN                             148,786.0000  \n",
       "1034          NaN                             151,841.0000  \n",
       "3084          NaN                                 993.0000  \n",
       "4338          NaN                                 124.0000  \n",
       "...           ...                                      ...  \n",
       "11134         NaN                             116,973.0000  \n",
       "11135         NaN                             150,942.0000  \n",
       "11136         NaN                             123,543.0000  \n",
       "11146         NaN                                 323.0000  \n",
       "11152         NaN                             152,722.0000  \n",
       "\n",
       "[477 rows x 12 columns]"
      ]
     },
     "execution_count": 27,
     "metadata": {},
     "output_type": "execute_result"
    }
   ],
   "source": [
    "bank_rp[bank_rp.region.isna()]"
   ]
  },
  {
   "cell_type": "markdown",
   "id": "33f7ff2f-5c49-4401-a328-c209cbf0760d",
   "metadata": {
    "id": "33f7ff2f-5c49-4401-a328-c209cbf0760d"
   },
   "source": [
    "**It has reduced to 477 rows.**"
   ]
  },
  {
   "cell_type": "code",
   "execution_count": 28,
   "id": "d0794264-85b3-4ab0-8215-cc814c848d66",
   "metadata": {
    "colab": {
     "base_uri": "https://localhost:8080/"
    },
    "id": "d0794264-85b3-4ab0-8215-cc814c848d66",
    "outputId": "158a39d5-dda1-4302-922a-6a40b2831aa9"
   },
   "outputs": [
    {
     "data": {
      "text/plain": [
       "0                           TSB\n",
       "1        Royal Bank of Scotland\n",
       "2        Royal Bank of Scotland\n",
       "3        Royal Bank of Scotland\n",
       "4        Royal Bank of Scotland\n",
       "                  ...          \n",
       "11155                   NatWest\n",
       "11156                Nationwide\n",
       "11157    Royal Bank of Scotland\n",
       "11158    Royal Bank of Scotland\n",
       "11159                   NatWest\n",
       "Name: brand_full, Length: 11160, dtype: object"
      ]
     },
     "execution_count": 28,
     "metadata": {},
     "output_type": "execute_result"
    }
   ],
   "source": [
    "bank_rp.brand_full"
   ]
  },
  {
   "cell_type": "code",
   "execution_count": null,
   "id": "2a358ebd-6398-4432-98a2-7f09cacd579b",
   "metadata": {
    "colab": {
     "base_uri": "https://localhost:8080/",
     "height": 424
    },
    "id": "2a358ebd-6398-4432-98a2-7f09cacd579b",
    "outputId": "2af3a3cb-c308-4b58-be1d-5cec99afc437"
   },
   "outputs": [],
   "source": [
    "bank_rp[(bank_rp.brand_full == 'Royal Bank of Scotland')]"
   ]
  },
  {
   "cell_type": "markdown",
   "id": "c45e39cd-c305-4ac2-9c25-3dfc39470c76",
   "metadata": {
    "id": "c45e39cd-c305-4ac2-9c25-3dfc39470c76"
   },
   "source": [
    "Here we are trying to look at the Bank and the status and finding if there is any relation with the particular Bank which is getting closed.\n",
    "Another Research Question here can be framed - **Are some companies more likely to close branches than others?**"
   ]
  },
  {
   "cell_type": "code",
   "execution_count": null,
   "id": "89f23315-306c-454d-8735-9c14b3f233b9",
   "metadata": {
    "colab": {
     "base_uri": "https://localhost:8080/",
     "height": 424
    },
    "id": "89f23315-306c-454d-8735-9c14b3f233b9",
    "outputId": "603eb8fb-53a6-449c-a72d-3c997d9b4e50"
   },
   "outputs": [],
   "source": [
    "bank_rp[(bank_rp.brand_full == 'Royal Bank of Scotland') & (bank_rp.status == 'Closed')]"
   ]
  },
  {
   "cell_type": "markdown",
   "id": "7dcbc6c4-4e26-4abc-9729-4afe78ef2da4",
   "metadata": {
    "id": "7dcbc6c4-4e26-4abc-9729-4afe78ef2da4"
   },
   "source": [
    "Now we are going to look at other columns which are useful in our analysis and if they contain any null values."
   ]
  },
  {
   "cell_type": "code",
   "execution_count": null,
   "id": "9e1397c3-c346-46cc-9d6e-7bf92ad0472c",
   "metadata": {
    "colab": {
     "base_uri": "https://localhost:8080/",
     "height": 53
    },
    "id": "9e1397c3-c346-46cc-9d6e-7bf92ad0472c",
    "outputId": "37bedd9a-8e97-487d-8dc1-8ff21efc27c8"
   },
   "outputs": [],
   "source": [
    "bank_rp[bank_rp.brand_full.isna()]"
   ]
  },
  {
   "cell_type": "code",
   "execution_count": null,
   "id": "8e14742d-0261-4bfd-a620-7f704fe60437",
   "metadata": {
    "colab": {
     "base_uri": "https://localhost:8080/"
    },
    "id": "8e14742d-0261-4bfd-a620-7f704fe60437",
    "outputId": "5b7f6a1f-e3ef-4ea7-9999-b3656981f0be"
   },
   "outputs": [],
   "source": [
    "bank_rp.branch_type"
   ]
  },
  {
   "cell_type": "code",
   "execution_count": null,
   "id": "4acebcdd-d520-41a3-9ba7-a51d3c1a7607",
   "metadata": {
    "colab": {
     "base_uri": "https://localhost:8080/",
     "height": 53
    },
    "id": "4acebcdd-d520-41a3-9ba7-a51d3c1a7607",
    "outputId": "e7a8eea6-3132-4cfe-b5cb-c935f2482d1e"
   },
   "outputs": [],
   "source": [
    "bank_rp[bank_rp.branch_type.isna()]"
   ]
  },
  {
   "cell_type": "code",
   "execution_count": null,
   "id": "a27599ac-39db-472a-bd28-1076642ed8fc",
   "metadata": {
    "colab": {
     "base_uri": "https://localhost:8080/",
     "height": 424
    },
    "id": "a27599ac-39db-472a-bd28-1076642ed8fc",
    "outputId": "b1311aa5-d6de-4899-ba96-3e9c18f63944"
   },
   "outputs": [],
   "source": [
    "# Checking if there is any relation between types of branch and the status\n",
    "bank_rp[(bank_rp.branch_type == 'Mobile Branch') & (bank_rp.status == 'Closed')]"
   ]
  },
  {
   "cell_type": "code",
   "execution_count": null,
   "id": "60044cdc-3a82-4895-8a80-f6f955707e90",
   "metadata": {
    "colab": {
     "base_uri": "https://localhost:8080/"
    },
    "id": "60044cdc-3a82-4895-8a80-f6f955707e90",
    "outputId": "7fd1ba5c-df0f-4b5a-85a1-6d101e67c3d7"
   },
   "outputs": [],
   "source": [
    "# Filter the DataFrame to include only closed branches\n",
    "closed_branches = bank_rp[bank_rp['status'] == 'Closed']\n",
    "\n",
    "# Calculate the sum of closed branches\n",
    "sum_closed_branches = closed_branches['id'].count()\n",
    "\n",
    "print(\"Sum of closed branches:\", sum_closed_branches)\n"
   ]
  },
  {
   "cell_type": "code",
   "execution_count": null,
   "id": "ca9c2674-583a-4f56-b9dd-6ab926892fb0",
   "metadata": {
    "colab": {
     "base_uri": "https://localhost:8080/",
     "height": 607
    },
    "id": "ca9c2674-583a-4f56-b9dd-6ab926892fb0",
    "outputId": "000f6111-fabc-4c5d-b48f-66f9e2725ebd"
   },
   "outputs": [],
   "source": [
    "# Filter the DataFrame to include only closed branches\n",
    "#closed_branches = bank_rp[bank_rp['status'] == 'Closed']\n",
    "\n",
    "# Count the number of closed branches in each region\n",
    "closed_branches_count = closed_branches.groupby('brand_full').size().reset_index(name='count')\n",
    "\n",
    "# Create a bar graph\n",
    "plt.figure(figsize=(10, 6))\n",
    "plt.bar(closed_branches_count['brand_full'], closed_branches_count['count'], color='skyblue')\n",
    "plt.xlabel('Bank Name')\n",
    "plt.ylabel('Number of Closed Branches')\n",
    "plt.title('Number of Closed Branches by Bank')\n",
    "plt.xticks(rotation=45, ha='right')\n",
    "plt.tight_layout()\n",
    "plt.savefig('CLOSED_Branches_Bank.png')\n",
    "plt.show()"
   ]
  },
  {
   "cell_type": "markdown",
   "id": "c7e58f2c-6f62-4796-a6ad-274f94cc2e20",
   "metadata": {
    "id": "c7e58f2c-6f62-4796-a6ad-274f94cc2e20"
   },
   "source": [
    "**Observations**\n",
    "* The Bar-graph above show us clearly which branches are getting closed recently.\n",
    "* The top three Branches are Barclays, NatWest and HSBC.\n",
    "* However, we can also see many small branches are also getting closed so its not just big branches."
   ]
  },
  {
   "cell_type": "code",
   "execution_count": null,
   "id": "e1525d23-b6e2-4e45-90b8-5ca464428c76",
   "metadata": {
    "colab": {
     "base_uri": "https://localhost:8080/",
     "height": 607
    },
    "id": "e1525d23-b6e2-4e45-90b8-5ca464428c76",
    "outputId": "d3ce08df-3960-4eec-e7cb-e0bc5b107ddc"
   },
   "outputs": [],
   "source": [
    "# Count the number of closed branches in each region and branch type\n",
    "closed_branches_count = closed_branches.groupby(['brand_full', 'branch_type']).size().unstack(fill_value=0)\n",
    "\n",
    "# Create a stacked bar graph\n",
    "plt.figure(figsize=(10, 6))\n",
    "\n",
    "for i, branch_type in enumerate(closed_branches_count.columns):\n",
    "    plt.bar(closed_branches_count.index, closed_branches_count[branch_type], bottom=closed_branches_count.iloc[:, :i].sum(axis=1), label=branch_type)\n",
    "\n",
    "plt.xlabel('Bank_Name')\n",
    "plt.ylabel('Number of Closed Branches')\n",
    "plt.title('Stacked Bar Chart of Closed Branches by Bank and Branch Type')\n",
    "plt.legend(title='Branch Type')\n",
    "plt.xticks(rotation=45, ha='right')\n",
    "plt.tight_layout()\n",
    "plt.savefig('Closed_Banks_Branch_Type.png')\n",
    "plt.show()"
   ]
  },
  {
   "cell_type": "markdown",
   "id": "013b282d-a533-4c9e-83fe-33d4407cac37",
   "metadata": {
    "id": "013b282d-a533-4c9e-83fe-33d4407cac37"
   },
   "source": [
    "**Observations**\n",
    "\n",
    "* When we make a Stacked Bar Chart to see what type of branches are closed. So, there are four types of branches- Agency, Branch, Digital Services Branch and Mobile Branch. Mostly Main Branch are closed so which shows another pattern that its not necessary that only mobile branch are getting closed."
   ]
  },
  {
   "cell_type": "code",
   "execution_count": null,
   "id": "b9ef84ac-7366-4205-86e9-32f4b02991b7",
   "metadata": {
    "colab": {
     "base_uri": "https://localhost:8080/",
     "height": 424
    },
    "id": "b9ef84ac-7366-4205-86e9-32f4b02991b7",
    "outputId": "aee24e92-91e0-4435-96c5-d3e15cc651a9"
   },
   "outputs": [],
   "source": [
    "bank_rp[(bank_rp.branch_type == 'Branch') & (bank_rp.status == 'Closed')]"
   ]
  },
  {
   "cell_type": "markdown",
   "id": "afc1330c-66bc-4034-9a0d-66be0626d9c0",
   "metadata": {
    "id": "afc1330c-66bc-4034-9a0d-66be0626d9c0"
   },
   "source": [
    "So 5017 banks comes under closed branch which has the type Branch."
   ]
  },
  {
   "cell_type": "markdown",
   "id": "6328c04b-84e6-4d17-a1ec-facf21cf12fc",
   "metadata": {
    "id": "6328c04b-84e6-4d17-a1ec-facf21cf12fc"
   },
   "source": [
    "**For one hot encoding we will select columns to keep in our analysis and start the machine learning modelling.**"
   ]
  },
  {
   "cell_type": "code",
   "execution_count": null,
   "id": "dcfa5033-427e-478c-a839-91a2a4a10281",
   "metadata": {
    "id": "dcfa5033-427e-478c-a839-91a2a4a10281"
   },
   "outputs": [],
   "source": [
    "columns_to_keep = ['brand_full', 'branch_type', 'region', 'status', 'po_dist']"
   ]
  },
  {
   "cell_type": "code",
   "execution_count": null,
   "id": "a7a016f7-15b8-4188-89f9-8d57d32ee5f5",
   "metadata": {
    "id": "a7a016f7-15b8-4188-89f9-8d57d32ee5f5"
   },
   "outputs": [],
   "source": [
    "final_bank_rp = bank_rp[columns_to_keep]"
   ]
  },
  {
   "cell_type": "code",
   "execution_count": null,
   "id": "b429ece3-cc0a-40b4-8e9c-f2432e296dda",
   "metadata": {
    "colab": {
     "base_uri": "https://localhost:8080/",
     "height": 424
    },
    "id": "b429ece3-cc0a-40b4-8e9c-f2432e296dda",
    "outputId": "69ec9626-e5d1-49bf-a425-ae5c9bad5639"
   },
   "outputs": [],
   "source": [
    "final_bank_rp"
   ]
  },
  {
   "cell_type": "code",
   "execution_count": null,
   "id": "ac1ea9f5-a665-4c9e-be3f-7ad32c8cbc16",
   "metadata": {
    "id": "ac1ea9f5-a665-4c9e-be3f-7ad32c8cbc16"
   },
   "outputs": [],
   "source": [
    "# Drop the region column with na values.\n",
    "final_bank_rp.drop(final_bank_rp[final_bank_rp.region.isna()].index.array, axis=0, inplace=True)"
   ]
  },
  {
   "cell_type": "code",
   "execution_count": null,
   "id": "4c1f596e-9076-4c9d-94a5-b4f7f12e6f1b",
   "metadata": {
    "colab": {
     "base_uri": "https://localhost:8080/",
     "height": 424
    },
    "id": "4c1f596e-9076-4c9d-94a5-b4f7f12e6f1b",
    "outputId": "faa5f7bc-117b-4895-e249-8c26e89dbf2c"
   },
   "outputs": [],
   "source": [
    "final_bank_rp"
   ]
  },
  {
   "cell_type": "code",
   "execution_count": null,
   "id": "160c2a72-0b74-4856-829a-0517e8045d38",
   "metadata": {
    "colab": {
     "base_uri": "https://localhost:8080/",
     "height": 81
    },
    "id": "160c2a72-0b74-4856-829a-0517e8045d38",
    "outputId": "e063b774-3cc9-4d5a-f984-f222035da78c"
   },
   "outputs": [],
   "source": [
    "final_bank_rp[final_bank_rp.po_dist.isna()]"
   ]
  },
  {
   "cell_type": "code",
   "execution_count": null,
   "id": "14221b39-a068-4af8-a3b6-68034c28968c",
   "metadata": {
    "id": "14221b39-a068-4af8-a3b6-68034c28968c"
   },
   "outputs": [],
   "source": [
    "# Drop the po_dist row with na values.\n",
    "final_bank_rp.drop(final_bank_rp[final_bank_rp.po_dist.isna()].index.array, axis=0, inplace=True)"
   ]
  },
  {
   "cell_type": "markdown",
   "id": "d8a08623-38f2-44f0-b380-998a94c7f312",
   "metadata": {
    "id": "d8a08623-38f2-44f0-b380-998a94c7f312"
   },
   "source": [
    "**So, now we have all the columns without any NULL values and which will help in our Analysis**\n",
    "The columns are\n",
    "* Bank Name - 'brand_full'\n",
    "* Type of the Branch - 'branch_type'\n",
    "* Region- 'region'\n",
    "* Status -'status'\n",
    "* Distance of the Post Office - 'po_dist'"
   ]
  },
  {
   "cell_type": "code",
   "execution_count": null,
   "id": "ea286fd8-e017-41d3-b02e-c26e288cc283",
   "metadata": {
    "colab": {
     "base_uri": "https://localhost:8080/"
    },
    "id": "ea286fd8-e017-41d3-b02e-c26e288cc283",
    "outputId": "db34b39a-f1d8-4d00-8cf9-5c422a8799df"
   },
   "outputs": [],
   "source": [
    "# In status column we have three values which we should modify - closed/open/closing\n",
    "final_bank_rp.status"
   ]
  },
  {
   "cell_type": "code",
   "execution_count": null,
   "id": "293ccdb8-7488-43a5-8175-f5c807b57916",
   "metadata": {
    "id": "293ccdb8-7488-43a5-8175-f5c807b57916"
   },
   "outputs": [],
   "source": [
    "# Replace 'closing' with 'closed' in the 'status' column\n",
    "final_bank_rp['status'] = final_bank_rp['status'].replace('Closing', 'Closed')"
   ]
  },
  {
   "cell_type": "code",
   "execution_count": null,
   "id": "2e6cf42c-02e2-4951-a44b-65b5df5b5f3a",
   "metadata": {
    "colab": {
     "base_uri": "https://localhost:8080/"
    },
    "id": "2e6cf42c-02e2-4951-a44b-65b5df5b5f3a",
    "outputId": "3ccb8aa8-fe7f-41a9-f012-48578babbb36"
   },
   "outputs": [],
   "source": [
    "final_bank_rp['status'].unique()"
   ]
  },
  {
   "cell_type": "code",
   "execution_count": null,
   "id": "5de96476-99b0-4e18-946d-7714d963b403",
   "metadata": {
    "colab": {
     "base_uri": "https://localhost:8080/"
    },
    "id": "5de96476-99b0-4e18-946d-7714d963b403",
    "outputId": "04d27e5f-1bc2-4e4f-8bf2-31a64de99bb4"
   },
   "outputs": [],
   "source": [
    "final_bank_rp.info()"
   ]
  },
  {
   "cell_type": "markdown",
   "id": "0528602b-fd4d-478d-bbcc-d0a0cc8ca7fe",
   "metadata": {
    "id": "0528602b-fd4d-478d-bbcc-d0a0cc8ca7fe"
   },
   "source": [
    "**Creating a function that will accept a DataFrame as input and return pie-charts for all the appropriate Categorical features. Clearly showing percentage distribution in the pie-chart.**"
   ]
  },
  {
   "cell_type": "code",
   "execution_count": null,
   "id": "f80ff8a3-c323-4792-981c-d572075cdb30",
   "metadata": {
    "id": "f80ff8a3-c323-4792-981c-d572075cdb30"
   },
   "outputs": [],
   "source": [
    "#function to create piecharts for all categorical columns\n",
    "def pieplots(data):\n",
    "    col_names = data.columns[pd.Series(data.columns).apply(lambda x : final_bank_rp[x].dtype == 'object')]\n",
    "    for col in col_names:\n",
    "        print('Pie of column',col)\n",
    "        temp_data = data[col].value_counts()\n",
    "        print(temp_data)\n",
    "        plt.pie(temp_data, labels=temp_data.index, autopct='%.1f%%');\n",
    "        plt.show()"
   ]
  },
  {
   "cell_type": "code",
   "execution_count": null,
   "id": "4a1cc838-2dc7-4f30-a0da-18fd7bd2972d",
   "metadata": {
    "colab": {
     "base_uri": "https://localhost:8080/",
     "height": 1000
    },
    "id": "4a1cc838-2dc7-4f30-a0da-18fd7bd2972d",
    "outputId": "2b8937a8-e17f-4eb5-a9e1-5171e1913979"
   },
   "outputs": [],
   "source": [
    "pieplots(final_bank_rp)   #calling function pieplots for creating pie charts of all categorical variables"
   ]
  },
  {
   "cell_type": "markdown",
   "id": "878b7eea-486d-4e16-8fe1-4f785348dc3c",
   "metadata": {
    "id": "878b7eea-486d-4e16-8fe1-4f785348dc3c"
   },
   "source": [
    "**Observations**\n",
    "\n",
    "* We already checked for the banks which are more in number like Natwest, Barclays, Llyods and HSBC.\n",
    "* We have 91.11 % of main branch and 6.84 mobile branch.\n",
    "* Regions having high branch is Scotland with 13.74%, South East 13.42% and London 11.94%.\n",
    "* There are 50.66% of closed branches and 49.34% open branches."
   ]
  },
  {
   "cell_type": "markdown",
   "id": "10573057-d557-4271-94fc-7a9c03ec7a29",
   "metadata": {
    "id": "10573057-d557-4271-94fc-7a9c03ec7a29"
   },
   "source": [
    "### Converting categorical variables\n",
    "First, we need to convert categorical variables into dummy/indicator variables, using `One-Hot Encoding`and 'Label Encoding'\n",
    "Now we have checked all the columns.  \n",
    "For the status we will do **Label encoding** as it has only two values open and closed and for the other three columns brand_full, branch_type, region we will do 'One-Hot Encoding`"
   ]
  },
  {
   "cell_type": "code",
   "execution_count": null,
   "id": "765fb6e0-c5b8-4339-a30a-c55c1c2c29ea",
   "metadata": {
    "colab": {
     "base_uri": "https://localhost:8080/"
    },
    "id": "765fb6e0-c5b8-4339-a30a-c55c1c2c29ea",
    "outputId": "c2a35a9f-466b-452e-9836-7c07e5500eee"
   },
   "outputs": [],
   "source": [
    "print(final_bank_rp['brand_full'].unique())"
   ]
  },
  {
   "cell_type": "code",
   "execution_count": null,
   "id": "389bae96-e638-443a-9a96-8a21134395e1",
   "metadata": {
    "colab": {
     "base_uri": "https://localhost:8080/"
    },
    "id": "389bae96-e638-443a-9a96-8a21134395e1",
    "outputId": "6e8e58f8-3bca-4307-c218-eedef02f440a"
   },
   "outputs": [],
   "source": [
    "print(final_bank_rp['branch_type'].unique())\n",
    "print(final_bank_rp['region'].unique())"
   ]
  },
  {
   "cell_type": "markdown",
   "id": "fe346beb-4350-4158-80c1-855df345e193",
   "metadata": {
    "id": "fe346beb-4350-4158-80c1-855df345e193"
   },
   "source": [
    "**One-Hot Encoding**"
   ]
  },
  {
   "cell_type": "code",
   "execution_count": null,
   "id": "65941087-8279-4866-b454-bbed3a62e7cd",
   "metadata": {
    "id": "65941087-8279-4866-b454-bbed3a62e7cd"
   },
   "outputs": [],
   "source": [
    "final_bank_rp_encoded = pd.get_dummies(final_bank_rp, columns=['brand_full', 'branch_type', 'region'], drop_first =True, dtype = int)\n",
    "# Use dtype = int because one-hot encoding was giving boolean value."
   ]
  },
  {
   "cell_type": "code",
   "execution_count": null,
   "id": "239fc959-d80a-44eb-b351-961ea372dc9d",
   "metadata": {
    "colab": {
     "base_uri": "https://localhost:8080/",
     "height": 273
    },
    "id": "239fc959-d80a-44eb-b351-961ea372dc9d",
    "outputId": "9dfeb2f2-705a-49d0-9625-abe946094940"
   },
   "outputs": [],
   "source": [
    "final_bank_rp_encoded.head()"
   ]
  },
  {
   "cell_type": "code",
   "execution_count": null,
   "id": "ea13e39b-b138-4f05-bb53-d53e31200584",
   "metadata": {
    "colab": {
     "base_uri": "https://localhost:8080/"
    },
    "id": "ea13e39b-b138-4f05-bb53-d53e31200584",
    "outputId": "a48a28c0-07ec-480b-b679-c736c1078045"
   },
   "outputs": [],
   "source": [
    "final_bank_rp_encoded.info()"
   ]
  },
  {
   "cell_type": "code",
   "execution_count": null,
   "id": "21e0606e-9200-4ce8-9b13-e6cde9f21546",
   "metadata": {
    "colab": {
     "base_uri": "https://localhost:8080/"
    },
    "id": "21e0606e-9200-4ce8-9b13-e6cde9f21546",
    "outputId": "4ec77559-9f65-4bfb-e4dd-1c18e89fd290"
   },
   "outputs": [],
   "source": [
    "print(final_bank_rp_encoded['po_dist'].dtype)"
   ]
  },
  {
   "cell_type": "markdown",
   "id": "a4660264-d6b2-417b-9d4e-ef37d57e83e9",
   "metadata": {
    "id": "a4660264-d6b2-417b-9d4e-ef37d57e83e9"
   },
   "source": [
    "**Here we want to check if there are any outliers or not in po_dist because that is our numerical column.**"
   ]
  },
  {
   "cell_type": "code",
   "execution_count": null,
   "id": "b7824c8f-3d02-4b2b-abb3-031636ab5da9",
   "metadata": {
    "colab": {
     "base_uri": "https://localhost:8080/",
     "height": 607
    },
    "id": "b7824c8f-3d02-4b2b-abb3-031636ab5da9",
    "outputId": "f9e24337-9c8a-44b8-c14b-cfb2b10b32fb"
   },
   "outputs": [],
   "source": [
    "# Create a figure with two subplots\n",
    "fig, axs = plt.subplots(1, 2, figsize=(12, 6))\n",
    "\n",
    "# Plot a box plot\n",
    "axs[0].boxplot(final_bank_rp_encoded['po_dist'])\n",
    "axs[0].set_title('Box Plot of po_dist')\n",
    "axs[0].set_ylabel('Distance')\n",
    "axs[0].set_xticklabels([''])\n",
    "\n",
    "# Plot a histogram\n",
    "axs[1].hist(final_bank_rp_encoded['po_dist'], bins=20, edgecolor='black')\n",
    "axs[1].set_title('Histogram of po_dist')\n",
    "axs[1].set_xlabel('Distance')\n",
    "axs[1].set_ylabel('Frequency')\n",
    "\n",
    "plt.tight_layout()\n",
    "plt.show()"
   ]
  },
  {
   "cell_type": "code",
   "execution_count": null,
   "id": "85471fec-1026-4fcf-8ef9-7f6202120405",
   "metadata": {
    "colab": {
     "base_uri": "https://localhost:8080/"
    },
    "id": "85471fec-1026-4fcf-8ef9-7f6202120405",
    "outputId": "cae85596-bfb9-4178-f782-0ca17dbf27dc"
   },
   "outputs": [],
   "source": [
    "final_bank_rp_encoded.po_dist.describe()"
   ]
  },
  {
   "cell_type": "markdown",
   "id": "074f97bf-4b42-4675-bb4c-6e5f9f86485e",
   "metadata": {
    "id": "074f97bf-4b42-4675-bb4c-6e5f9f86485e"
   },
   "source": [
    "**Observations**\n",
    "\n",
    "1. The box-plot and histogram shows a number of outliers roughly with values above 75th percentile. These outliers may introduce bias in the data. Therefore these outliers have to be removed or treated.\n",
    "   \n",
    "2. As we are looking at branches which have been closed based on distance. Typically if a post-office is closer to the branch there is high chance for bank to decide to closed down the branch and offer transaction to customers through Post Office. Assuming that this is true removing these outliers may not impact the decision to close the branch based on distance from Post Office."
   ]
  },
  {
   "cell_type": "markdown",
   "id": "55d00038-732c-469f-89c6-e19c2cd70b1e",
   "metadata": {
    "id": "55d00038-732c-469f-89c6-e19c2cd70b1e"
   },
   "source": [
    "**Removing Outliers from po_dist column.**"
   ]
  },
  {
   "cell_type": "code",
   "execution_count": null,
   "id": "0a51175a-9d1c-45e9-9c88-ae8aba2938ca",
   "metadata": {
    "id": "0a51175a-9d1c-45e9-9c88-ae8aba2938ca"
   },
   "outputs": [],
   "source": [
    "# Calculate Q1, Q3, and IQR\n",
    "Q1 = final_bank_rp_encoded['po_dist'].quantile(0.25)\n",
    "Q3 = final_bank_rp_encoded['po_dist'].quantile(0.75)\n",
    "IQR = Q3 - Q1\n",
    "\n",
    "# Define lower and upper bounds\n",
    "lower_bound = Q1 - 1.5 * IQR\n",
    "upper_bound = Q3 + 1.5 * IQR\n",
    "\n",
    "# Filter out outliers\n",
    "final_bank_rp_encoded = final_bank_rp_encoded[(final_bank_rp_encoded['po_dist'] >= lower_bound) & (final_bank_rp_encoded['po_dist'] <= upper_bound)]\n"
   ]
  },
  {
   "cell_type": "code",
   "execution_count": null,
   "id": "82f9148b-25e1-496d-b24c-1661eba024f9",
   "metadata": {
    "colab": {
     "base_uri": "https://localhost:8080/"
    },
    "id": "82f9148b-25e1-496d-b24c-1661eba024f9",
    "outputId": "690b9ccc-0a5e-4ae6-b567-14507ec7f8dc"
   },
   "outputs": [],
   "source": [
    "final_bank_rp_encoded.po_dist.describe()"
   ]
  },
  {
   "cell_type": "markdown",
   "id": "626268bc-0dcf-42d6-8ffc-7a7c0a50f89a",
   "metadata": {
    "id": "626268bc-0dcf-42d6-8ffc-7a7c0a50f89a"
   },
   "source": [
    "**Standardizing the distance column**"
   ]
  },
  {
   "cell_type": "code",
   "execution_count": null,
   "id": "c744a8d1-b711-4b0c-bff6-502d2f0c0af7",
   "metadata": {
    "id": "c744a8d1-b711-4b0c-bff6-502d2f0c0af7"
   },
   "outputs": [],
   "source": [
    "# Create a StandardScaler object\n",
    "scaler = StandardScaler()\n",
    "\n",
    "# Fit the scaler to the 'po_dist' column and transform it\n",
    "final_bank_rp_encoded['po_dist'] = scaler.fit_transform(final_bank_rp_encoded[['po_dist']])"
   ]
  },
  {
   "cell_type": "code",
   "execution_count": null,
   "id": "4390d95b-485a-4cfd-b6bb-de816e485201",
   "metadata": {
    "colab": {
     "base_uri": "https://localhost:8080/"
    },
    "id": "4390d95b-485a-4cfd-b6bb-de816e485201",
    "outputId": "2c6a3f15-42ac-4524-8f48-a65790e8f9e9"
   },
   "outputs": [],
   "source": [
    "final_bank_rp_encoded.po_dist.describe()"
   ]
  },
  {
   "cell_type": "code",
   "execution_count": null,
   "id": "25fe11fd-c3a3-4a89-a44e-310a8c7b7edb",
   "metadata": {
    "colab": {
     "base_uri": "https://localhost:8080/"
    },
    "id": "25fe11fd-c3a3-4a89-a44e-310a8c7b7edb",
    "outputId": "d21a5e5e-fca7-4a7e-a94c-bc399a3679da"
   },
   "outputs": [],
   "source": [
    "# label_encoder object knows\n",
    "# how to understand word labels.\n",
    "label_encoder = preprocessing.LabelEncoder()\n",
    "\n",
    "# Encode labels in column 'species'.\n",
    "final_bank_rp_encoded['status']= label_encoder.fit_transform(final_bank_rp_encoded['status'])\n",
    "\n",
    "final_bank_rp_encoded['status'].unique()"
   ]
  },
  {
   "cell_type": "code",
   "execution_count": null,
   "id": "d4bd0e29-1e5f-4f7d-9be2-516627d8c3ed",
   "metadata": {
    "colab": {
     "base_uri": "https://localhost:8080/",
     "height": 461
    },
    "id": "d4bd0e29-1e5f-4f7d-9be2-516627d8c3ed",
    "outputId": "31e406a6-195b-4679-f46f-cf71a2bc5e2c"
   },
   "outputs": [],
   "source": [
    "final_bank_rp_encoded"
   ]
  },
  {
   "cell_type": "markdown",
   "id": "a2e17567-be48-4759-bb93-7286e4a9b45d",
   "metadata": {
    "id": "a2e17567-be48-4759-bb93-7286e4a9b45d"
   },
   "source": [
    "<a id=\"ID_Method\"></a>\n",
    "| [1.0 Intro](#ID_intr) | [2.0 Lit. review](#ID_lit) | [3.0 Research Quest.](#ID_research) | [4.0 Data](#ID_data) | [5.0 Methodology](\"#ID_Method) | [6.0 Results](\"#section_ID\") | [7.0 Discussion](#ID_Intro) | [Bibliography](#ID_Intro)  \n",
    "\n",
    "## 5.0 | Methodology"
   ]
  },
  {
   "cell_type": "markdown",
   "id": "ec5d4f46-1b7c-4eaa-86e1-ab5b721aff47",
   "metadata": {
    "id": "ec5d4f46-1b7c-4eaa-86e1-ab5b721aff47"
   },
   "source": [
    "Decision Trees (DTs) are a non-parametric supervised learning method used for classification and regression. The goal is to create a model that predicts the value of a target variable by learning simple decision rules inferred from the data features.\n",
    "\n",
    "DecisionTreeClassifier is a class capable of performing multi-class classification on a dataset.\n",
    "\n",
    "As with other classifiers, DecisionTreeClassifier takes as input two arrays: an array X, sparse or dense, of shape (n_samples, n_features) holding the training samples, and an array Y of integer values, shape (n_samples,), holding the class labels for the training samples."
   ]
  },
  {
   "cell_type": "markdown",
   "id": "1e73ad8e-755b-4556-bf7f-7ca7e31878e0",
   "metadata": {
    "id": "1e73ad8e-755b-4556-bf7f-7ca7e31878e0"
   },
   "source": [
    "**Splitting data into random train and test subsets**"
   ]
  },
  {
   "cell_type": "markdown",
   "id": "9c51ed80-b476-43ef-b687-e8f1d05b7739",
   "metadata": {
    "id": "9c51ed80-b476-43ef-b687-e8f1d05b7739"
   },
   "source": [
    "By default, `train_test_split` will split the data according to a 75:25 split.\n",
    "The split should be random in order to avoid selection bias. Here, we set random_state=100 to guarantee reproducibility.\n",
    "Here we input two dataframes (X and Y) and will get four outputs (train_x, test_x, train_y, test_y)."
   ]
  },
  {
   "cell_type": "code",
   "execution_count": null,
   "id": "671fe1a8-8b0b-45eb-a9bd-48d9a9264d88",
   "metadata": {
    "id": "671fe1a8-8b0b-45eb-a9bd-48d9a9264d88"
   },
   "outputs": [],
   "source": [
    "random_state_split = 100\n",
    "train_x, test_x, train_y, test_y = train_test_split(final_bank_rp_encoded.drop(['status'], axis = 1), final_bank_rp_encoded.status, random_state=random_state_split)"
   ]
  },
  {
   "cell_type": "markdown",
   "id": "433cbfa2-b44d-4fe4-b6bd-3fffc8ce5a6f",
   "metadata": {
    "id": "433cbfa2-b44d-4fe4-b6bd-3fffc8ce5a6f"
   },
   "source": [
    "Double check the rows and columns of the outputs."
   ]
  },
  {
   "cell_type": "code",
   "execution_count": null,
   "id": "ed46c163-662a-4098-87dc-9913a0671d77",
   "metadata": {
    "colab": {
     "base_uri": "https://localhost:8080/"
    },
    "id": "ed46c163-662a-4098-87dc-9913a0671d77",
    "outputId": "183860f7-3f4e-4a13-b374-0d89c67657ff"
   },
   "outputs": [],
   "source": [
    "print(train_x.shape)\n",
    "print(train_y.shape)\n",
    "print(test_x.shape)\n",
    "print(test_y.shape)\n",
    "\n",
    "# check the index of train_x and train_y - they should be identical. The index indicates which rows from the original data.\n",
    "\n",
    "print(train_x.index.identical(train_y.index))\n",
    "print(test_x.index.identical(test_y.index))"
   ]
  },
  {
   "cell_type": "markdown",
   "id": "0efec5c9-beea-4976-83b7-d81db5ef189c",
   "metadata": {
    "id": "0efec5c9-beea-4976-83b7-d81db5ef189c"
   },
   "source": [
    "**The Dependant variable (y) here is closed and open labeled as 0 and 1. So we are using *Decision Tree Classifier*.**"
   ]
  },
  {
   "cell_type": "code",
   "execution_count": null,
   "id": "37ff4fa1-7dd8-4b90-babc-8fd7793f8d66",
   "metadata": {
    "id": "37ff4fa1-7dd8-4b90-babc-8fd7793f8d66"
   },
   "outputs": [],
   "source": [
    "from sklearn.tree import DecisionTreeClassifier # Import Decision Tree Classifier\n",
    "# Create Decision Tree classifer object\n",
    "clf = DecisionTreeClassifier(random_state = 5)\n",
    "# Train Decision Tree Classifer\n",
    "clf = clf.fit(train_x,train_y)"
   ]
  },
  {
   "cell_type": "code",
   "execution_count": null,
   "id": "dc659fab-0303-4a6f-b235-cb9c7837a20d",
   "metadata": {
    "id": "dc659fab-0303-4a6f-b235-cb9c7837a20d"
   },
   "outputs": [],
   "source": [
    "#Predict the response for test dataset\n",
    "y_pred = clf.predict(test_x)"
   ]
  },
  {
   "cell_type": "code",
   "execution_count": null,
   "id": "ddd7b12b-81f5-4eee-8023-3a30718968e1",
   "metadata": {
    "colab": {
     "base_uri": "https://localhost:8080/"
    },
    "id": "ddd7b12b-81f5-4eee-8023-3a30718968e1",
    "outputId": "47d1bca1-60d0-4b7a-cb47-4e1dcd5e86a5"
   },
   "outputs": [],
   "source": [
    "from sklearn import metrics #Import scikit-learn metrics module for accuracy calculation\n",
    "# Model Accuracy, how often is the classifier correct?\n",
    "print(\"Accuracy:\",metrics.accuracy_score(test_y, y_pred)) # so everytime i run this the value changes."
   ]
  },
  {
   "cell_type": "code",
   "execution_count": null,
   "id": "YZhhO6krB3SC",
   "metadata": {
    "id": "YZhhO6krB3SC"
   },
   "outputs": [],
   "source": [
    "from sklearn import metrics\n",
    "from sklearn.metrics import confusion_matrix , classification_report"
   ]
  },
  {
   "cell_type": "code",
   "execution_count": null,
   "id": "YGombAQzCOUT",
   "metadata": {
    "colab": {
     "base_uri": "https://localhost:8080/",
     "height": 462
    },
    "id": "YGombAQzCOUT",
    "outputId": "e37ff6f6-0a8d-4cda-bf75-1318f8c6edb5"
   },
   "outputs": [],
   "source": [
    "print(\"Confusion Matrix\")\n",
    "cm = metrics.confusion_matrix(test_y, y_pred, labels=[0,1])\n",
    "cm\n",
    "df_cm = pd.DataFrame(cm, index = [i for i in [0,1]], columns = [i for i in ['Predict_No','Predict_Yes']])\n",
    "plt.figure(figsize = (7,5))\n",
    "sns.heatmap(df_cm, annot=True,fmt='d');"
   ]
  },
  {
   "cell_type": "code",
   "execution_count": null,
   "id": "FS3H18qcCcr4",
   "metadata": {
    "colab": {
     "base_uri": "https://localhost:8080/"
    },
    "id": "FS3H18qcCcr4",
    "outputId": "59b13180-1a1c-4685-dc57-b16896b07bb0"
   },
   "outputs": [],
   "source": [
    "print(\"Classification Report\")\n",
    "print(metrics.classification_report(test_y, y_pred, labels=[0,1]))"
   ]
  },
  {
   "cell_type": "code",
   "execution_count": null,
   "id": "uhw_jp7ioiyO",
   "metadata": {
    "id": "uhw_jp7ioiyO"
   },
   "outputs": [],
   "source": [
    "Model_results = pd.DataFrame(columns = ['Model Name','Train Accuracy','Test Accuracy','Precision','Recall','F-Score'])"
   ]
  },
  {
   "cell_type": "code",
   "execution_count": null,
   "id": "EMRqusbsownn",
   "metadata": {
    "id": "EMRqusbsownn"
   },
   "outputs": [],
   "source": [
    "#Model_results.loc[len(Model_results.index)] = [mod, train_accuracy, test_accuracy, precision, recall, fscore]"
   ]
  },
  {
   "cell_type": "markdown",
   "id": "aa46071a-0a25-4e52-bd21-8eb37da04b88",
   "metadata": {
    "id": "aa46071a-0a25-4e52-bd21-8eb37da04b88"
   },
   "source": [
    "We got a classification rate of 63.38%, which is considered as good accuracy. You can improve this accuracy by tuning the parameters in the decision tree algorithm."
   ]
  },
  {
   "cell_type": "markdown",
   "id": "87473cbf-da5e-4a7a-9f6c-293eeff79460",
   "metadata": {
    "id": "87473cbf-da5e-4a7a-9f6c-293eeff79460"
   },
   "source": [
    "**Tuning hyperparameters of the ML model**"
   ]
  },
  {
   "cell_type": "markdown",
   "id": "dcc8ba36-4867-4014-905d-78dc386ae1aa",
   "metadata": {
    "id": "dcc8ba36-4867-4014-905d-78dc386ae1aa"
   },
   "source": [
    "In machine learning, hyperparameters are the model settings predefined by the user, e.g. maximum height of the decision tree.\n",
    "\n",
    "The best hyperparametrs are subjective and differs for every dataset.\n",
    "\n",
    "**Optimizing Decision Tree Performance parameters**\n",
    "\n",
    "**criterion** : optional (default=”gini”) or Choose attribute selection measure. This parameter allows us to use the different-different attribute selection measure.\n",
    "Supported criteria are **“gini”** for the Gini index and **“entropy”** for the information gain.\n",
    "\n",
    "**splitter** : string, optional (default=”best”) or Split Strategy. This parameter allows us to choose the split strategy. Supported strategies are **“best”** to choose the best split and **“random”** to choose the best random split.\n",
    "\n",
    "**max_depth** : int or None, optional (default=None) or Maximum Depth of a Tree. The maximum depth of the tree. If None, then nodes are expanded until all the leaves contain less than min_samples_split samples. The higher value of maximum depth causes overfitting, and a lower value causes underfitting."
   ]
  },
  {
   "cell_type": "markdown",
   "id": "7e1609b3-de45-4e25-9d11-abf49c100a66",
   "metadata": {
    "id": "7e1609b3-de45-4e25-9d11-abf49c100a66"
   },
   "source": [
    "**RandomizedSearchCV**\n",
    "<br>[here]https://scikit-learn.org/stable/modules/generated/sklearn.model_selection.RandomizedSearchCV.html<br>"
   ]
  },
  {
   "cell_type": "code",
   "execution_count": null,
   "id": "464521b0-983d-4e97-8a5c-5ac07c707bf9",
   "metadata": {
    "id": "464521b0-983d-4e97-8a5c-5ac07c707bf9"
   },
   "outputs": [],
   "source": [
    "#Here we are using RandomizedSearchCV, it implements a “fit” and a “score” method.\n",
    "#The parameters of the estimator used to apply these methods are optimized by cross-validated\n",
    "from sklearn.model_selection import RandomizedSearchCV"
   ]
  },
  {
   "cell_type": "code",
   "execution_count": null,
   "id": "5857eb27-9a65-425e-9025-6c9d8a5bf7de",
   "metadata": {
    "id": "5857eb27-9a65-425e-9025-6c9d8a5bf7de"
   },
   "outputs": [],
   "source": [
    "from scipy.stats import randint #The randint() method returns an integer number selected element from the specified range."
   ]
  },
  {
   "cell_type": "code",
   "execution_count": null,
   "id": "f67415a4-42dd-4947-8e36-b40d5c8346ff",
   "metadata": {
    "id": "f67415a4-42dd-4947-8e36-b40d5c8346ff"
   },
   "outputs": [],
   "source": [
    "# Create Decision Tree classifer object\n",
    "clf_tune = DecisionTreeClassifier(random_state = 5)"
   ]
  },
  {
   "cell_type": "code",
   "execution_count": null,
   "id": "6c69dffb-cf00-4ddc-b2b1-797f9ce0b897",
   "metadata": {
    "id": "6c69dffb-cf00-4ddc-b2b1-797f9ce0b897"
   },
   "outputs": [],
   "source": [
    "#parameters for hyperparameter initialisation\n",
    "params = {\n",
    "            'criterion': ['gini', 'entropy', 'log_loss']\n",
    "            , 'splitter': ['best','random']\n",
    "            , 'max_depth': randint(2,50)\n",
    "            , 'max_features': ['auto','sqrt','log2',None]\n",
    "            , 'class_weight': ['balanced',None]\n",
    "        }"
   ]
  },
  {
   "cell_type": "code",
   "execution_count": null,
   "id": "124b259e-971b-4fb3-912e-4d5894acfd95",
   "metadata": {
    "id": "124b259e-971b-4fb3-912e-4d5894acfd95"
   },
   "outputs": [],
   "source": [
    "#creating instance for RandomizedSearchCV\n",
    "random_search = RandomizedSearchCV(clf_tune, param_distributions=params, n_iter=50, scoring='accuracy', n_jobs=-1, cv=10, verbose=3, random_state=5)"
   ]
  },
  {
   "cell_type": "code",
   "execution_count": null,
   "id": "54971157-3725-4ac1-a8d4-312f8ba5a869",
   "metadata": {
    "colab": {
     "base_uri": "https://localhost:8080/",
     "height": 137
    },
    "id": "54971157-3725-4ac1-a8d4-312f8ba5a869",
    "outputId": "96d65f92-22be-4318-d1a0-f28757acd538"
   },
   "outputs": [],
   "source": [
    "random_search.fit(train_x,train_y)"
   ]
  },
  {
   "cell_type": "code",
   "execution_count": null,
   "id": "730cc54f-39e5-455c-adba-a8f50efc2885",
   "metadata": {
    "colab": {
     "base_uri": "https://localhost:8080/"
    },
    "id": "730cc54f-39e5-455c-adba-a8f50efc2885",
    "outputId": "7310b5f3-5bdb-44b9-9944-ab8168d53d07"
   },
   "outputs": [],
   "source": [
    "#predicted best parameter\n",
    "random_search.best_params_"
   ]
  },
  {
   "cell_type": "code",
   "execution_count": null,
   "id": "e73ab2f2-1986-4740-a77f-d133a9ebf02b",
   "metadata": {
    "colab": {
     "base_uri": "https://localhost:8080/",
     "height": 93
    },
    "id": "e73ab2f2-1986-4740-a77f-d133a9ebf02b",
    "outputId": "ea0c416a-6bd9-4d7f-cb88-e5989f469dc8"
   },
   "outputs": [],
   "source": [
    "random_search.best_estimator_"
   ]
  },
  {
   "cell_type": "code",
   "execution_count": null,
   "id": "03cfa16e-5b32-47c4-b067-c25e3242600b",
   "metadata": {
    "colab": {
     "base_uri": "https://localhost:8080/"
    },
    "id": "03cfa16e-5b32-47c4-b067-c25e3242600b",
    "outputId": "bc905df8-0398-4d0f-8b88-85ffb6de9d0a"
   },
   "outputs": [],
   "source": [
    "clf_tune = random_search.best_estimator_\n",
    "\n",
    "# Train Decision Tree Classifer\n",
    "clf_tune = clf_tune.fit(train_x,train_y)\n",
    "\n",
    "#Predict the response for test dataset\n",
    "y_pred = clf_tune.predict(test_x)\n",
    "\n",
    "# Model Accuracy, how often is the classifier correct?\n",
    "print(\"Accuracy:\",metrics.accuracy_score(test_y, y_pred))\n",
    "#After Tuning the accuracy has decreased."
   ]
  },
  {
   "cell_type": "markdown",
   "id": "31bcc62a-b2bf-4b6d-b7ad-3f2a638b6332",
   "metadata": {
    "id": "31bcc62a-b2bf-4b6d-b7ad-3f2a638b6332"
   },
   "source": [
    "Here we can see that after tuning the Classification Accuracy has increased to 66.50 which is an improved rate than the previous model."
   ]
  },
  {
   "cell_type": "code",
   "execution_count": null,
   "id": "Wq-0Bxe-PkuO",
   "metadata": {
    "colab": {
     "base_uri": "https://localhost:8080/",
     "height": 462
    },
    "id": "Wq-0Bxe-PkuO",
    "outputId": "cb9c9d1a-6bbd-4a8a-ee4d-18a5eaf017de"
   },
   "outputs": [],
   "source": [
    "print(\"Confusion Matrix\")\n",
    "cm = metrics.confusion_matrix(test_y, y_pred, labels=[0,1])\n",
    "cm\n",
    "df_cm = pd.DataFrame(cm, index = [i for i in [0,1]], columns = [i for i in ['Predict_No','Predict_Yes']])\n",
    "plt.figure(figsize = (7,5))\n",
    "sns.heatmap(df_cm, annot=True,fmt='d');"
   ]
  },
  {
   "cell_type": "markdown",
   "id": "EmNSbsgfSKno",
   "metadata": {
    "id": "EmNSbsgfSKno"
   },
   "source": [
    "Model is predicting po_dist 580 times (TP), 599 (FN) misclassifications and 1042 (TN) and 218 (FP) misclassifications."
   ]
  },
  {
   "cell_type": "code",
   "execution_count": null,
   "id": "d8wFMeZOSH46",
   "metadata": {
    "colab": {
     "base_uri": "https://localhost:8080/"
    },
    "id": "d8wFMeZOSH46",
    "outputId": "563bac65-1137-44c2-ca90-2beec4edac87"
   },
   "outputs": [],
   "source": [
    "print(\"Classification Report\")\n",
    "print(metrics.classification_report(test_y, y_pred, labels=[0,1]))"
   ]
  },
  {
   "cell_type": "markdown",
   "id": "1f18cb54-b687-4921-98a0-935c72dcfe69",
   "metadata": {
    "id": "1f18cb54-b687-4921-98a0-935c72dcfe69"
   },
   "source": [
    "**To Check more Model we will use Random Forest Classifier**"
   ]
  },
  {
   "cell_type": "code",
   "execution_count": null,
   "id": "b115eab8-0880-41f1-ad41-1418cfa8a6b1",
   "metadata": {
    "colab": {
     "base_uri": "https://localhost:8080/",
     "height": 75
    },
    "id": "b115eab8-0880-41f1-ad41-1418cfa8a6b1",
    "outputId": "bf8cf22f-c880-4178-88bd-b41a531184c6"
   },
   "outputs": [],
   "source": [
    "# import Random Forest classifier\n",
    "\n",
    "from sklearn.ensemble import RandomForestClassifier\n",
    "\n",
    "# instantiate the classifier\n",
    "\n",
    "rfc = RandomForestClassifier(random_state=5)\n",
    "\n",
    "# fit the model\n",
    "\n",
    "rfc.fit(train_x,train_y)"
   ]
  },
  {
   "cell_type": "code",
   "execution_count": null,
   "id": "ed65fc0f-9e7d-4156-b132-332e192cd662",
   "metadata": {
    "colab": {
     "base_uri": "https://localhost:8080/"
    },
    "id": "ed65fc0f-9e7d-4156-b132-332e192cd662",
    "outputId": "14022936-bb3a-4429-9dc4-5c114c1f5ee2"
   },
   "outputs": [],
   "source": [
    "# Predict the Test set results\n",
    "\n",
    "y_pred = rfc.predict(test_x)\n",
    "\n",
    "# Check accuracy score\n",
    "\n",
    "from sklearn.metrics import accuracy_score\n",
    "\n",
    "print('Model accuracy score with 10 decision-trees : {0:0.4f}'. format(accuracy_score(test_y, y_pred)))"
   ]
  },
  {
   "cell_type": "markdown",
   "id": "tHL5eYJ-6Bzl",
   "metadata": {
    "id": "tHL5eYJ-6Bzl"
   },
   "source": [
    "For tuning RF the parameters added here are"
   ]
  },
  {
   "cell_type": "code",
   "execution_count": null,
   "id": "0BlDx1m8-T1-",
   "metadata": {
    "id": "0BlDx1m8-T1-"
   },
   "outputs": [],
   "source": [
    "# Create Random Forest Classifer object\n",
    "rfc_tune = RandomForestClassifier(random_state=5)"
   ]
  },
  {
   "cell_type": "code",
   "execution_count": null,
   "id": "szYB4CVMAKTf",
   "metadata": {
    "id": "szYB4CVMAKTf"
   },
   "outputs": [],
   "source": [
    "from scipy.stats import uniform"
   ]
  },
  {
   "cell_type": "code",
   "execution_count": null,
   "id": "PHTD7T9H-TjK",
   "metadata": {
    "id": "PHTD7T9H-TjK"
   },
   "outputs": [],
   "source": [
    "#parameters for hyperparameter initialisation\n",
    "params = {\n",
    "            'n_estimators': randint(10,200)\n",
    "            , 'criterion': ['gini','entropy','log_loss']\n",
    "            , 'max_depth': randint(2,30)\n",
    "            , 'max_features': ['sqrt','log2',None]\n",
    "            , 'bootstrap': [True,False]\n",
    "            , 'class_weight': ['balanced','balanced_subsample',None]\n",
    "            , 'max_samples': uniform(0.0,1.0)\n",
    "        }"
   ]
  },
  {
   "cell_type": "code",
   "execution_count": null,
   "id": "ZQoIkDlT_XLb",
   "metadata": {
    "id": "ZQoIkDlT_XLb"
   },
   "outputs": [],
   "source": [
    "#creating instance for RandomizedSearchCV\n",
    "random_search = RandomizedSearchCV(rfc_tune, param_distributions=params, n_iter=50, scoring='accuracy', n_jobs=-1, cv=10, verbose=3, random_state=5)"
   ]
  },
  {
   "cell_type": "code",
   "execution_count": null,
   "id": "V1ZyTEpg_z4Z",
   "metadata": {
    "colab": {
     "base_uri": "https://localhost:8080/",
     "height": 137
    },
    "id": "V1ZyTEpg_z4Z",
    "outputId": "8b9c336d-0d6c-4688-bf68-6ecc0c1ae10e"
   },
   "outputs": [],
   "source": [
    "random_search.fit(train_x,train_y)"
   ]
  },
  {
   "cell_type": "code",
   "execution_count": null,
   "id": "WnV-zb0CBs48",
   "metadata": {
    "colab": {
     "base_uri": "https://localhost:8080/"
    },
    "id": "WnV-zb0CBs48",
    "outputId": "a10943e6-a53e-4b20-d3a1-3c4506237560"
   },
   "outputs": [],
   "source": [
    "#predicted best parameter\n",
    "random_search.best_params_"
   ]
  },
  {
   "cell_type": "code",
   "execution_count": null,
   "id": "WoUUZQjWBsq6",
   "metadata": {
    "colab": {
     "base_uri": "https://localhost:8080/",
     "height": 110
    },
    "id": "WoUUZQjWBsq6",
    "outputId": "33b64e2d-4aed-4c58-ffb3-4fa671a58590"
   },
   "outputs": [],
   "source": [
    "random_search.best_estimator_"
   ]
  },
  {
   "cell_type": "code",
   "execution_count": null,
   "id": "KvVDmniXB50c",
   "metadata": {
    "colab": {
     "base_uri": "https://localhost:8080/"
    },
    "id": "KvVDmniXB50c",
    "outputId": "09102513-bdb6-4057-dff6-4005a27167eb"
   },
   "outputs": [],
   "source": [
    "rfc_tune = random_search.best_estimator_\n",
    "\n",
    "# Train Decision Tree Classifer\n",
    "rfc_tune = rfc_tune.fit(train_x,train_y)\n",
    "\n",
    "#Predict the response for test dataset\n",
    "y_pred = rfc_tune.predict(test_x)\n",
    "\n",
    "# Model Accuracy, how often is the classifier correct?\n",
    "print(\"Accuracy:\",metrics.accuracy_score(test_y, y_pred))\n",
    "#After Tuning the accuracy has decreased."
   ]
  },
  {
   "cell_type": "markdown",
   "id": "vP_QSoiR4Aao",
   "metadata": {
    "id": "vP_QSoiR4Aao"
   },
   "source": [
    "So, for Random forest after tuning and taking the best hyperparametrs we get an improved accuracy score to **67.69.**"
   ]
  },
  {
   "cell_type": "markdown",
   "id": "0eb1ac35-dc60-4abe-b46d-c891ba169802",
   "metadata": {
    "id": "0eb1ac35-dc60-4abe-b46d-c891ba169802"
   },
   "source": [
    " **Train a model using XGBoost.**"
   ]
  },
  {
   "cell_type": "markdown",
   "id": "67aa3f24-8d2b-4fbc-88b1-103752e02653",
   "metadata": {
    "id": "67aa3f24-8d2b-4fbc-88b1-103752e02653"
   },
   "source": [
    "Now we are training the Model using XGBoost. It is an optimized distributed gradient boosting library designed to be highly efficient, flexible and portable. It implements machine learning algorithms under the Gradient Boosting framework. XGBoost provides a parallel tree boosting (also known as GBDT, GBM) that solve many data science problems in a fast and accurate way."
   ]
  },
  {
   "cell_type": "code",
   "execution_count": null,
   "id": "75339b63-8633-4258-b819-d432ad24fcc5",
   "metadata": {
    "id": "75339b63-8633-4258-b819-d432ad24fcc5"
   },
   "outputs": [],
   "source": [
    "from sklearn.ensemble import AdaBoostClassifier\n",
    "from sklearn.ensemble import GradientBoostingClassifier"
   ]
  },
  {
   "cell_type": "code",
   "execution_count": null,
   "id": "6750053d-7429-4dc5-874d-992ce11b727c",
   "metadata": {
    "id": "6750053d-7429-4dc5-874d-992ce11b727c"
   },
   "outputs": [],
   "source": [
    "from xgboost import XGBClassifier"
   ]
  },
  {
   "cell_type": "code",
   "execution_count": null,
   "id": "c76a590c-8c87-4160-ac0d-4cb1bbedee49",
   "metadata": {
    "colab": {
     "base_uri": "https://localhost:8080/",
     "height": 249
    },
    "id": "c76a590c-8c87-4160-ac0d-4cb1bbedee49",
    "outputId": "18618132-0340-4666-ed2c-bc4c9b96d5eb"
   },
   "outputs": [],
   "source": [
    "xgb1 = XGBClassifier(nthread = -1, random_state=5)\n",
    "xgb1.fit(train_x, train_y)\n",
    "xgb1"
   ]
  },
  {
   "cell_type": "code",
   "execution_count": null,
   "id": "3f15e720-0d0d-42df-bcf0-8eb70bf7fb9b",
   "metadata": {
    "id": "3f15e720-0d0d-42df-bcf0-8eb70bf7fb9b"
   },
   "outputs": [],
   "source": [
    "y_pred = xgb1.predict(test_x)"
   ]
  },
  {
   "cell_type": "code",
   "execution_count": null,
   "id": "151f7c77-4751-4096-8d74-94e4a45dbe00",
   "metadata": {
    "colab": {
     "base_uri": "https://localhost:8080/"
    },
    "id": "151f7c77-4751-4096-8d74-94e4a45dbe00",
    "outputId": "62092406-bc0e-4d8e-b49b-6bb1ef1ba22e"
   },
   "outputs": [],
   "source": [
    "print('Train data accuracy:', xgb1.score(train_x, train_y))\n",
    "print('Test data accuracy:' ,xgb1.score(test_x, test_y))"
   ]
  },
  {
   "cell_type": "markdown",
   "id": "979c1888-3bea-4d96-9f54-db2b46299ffa",
   "metadata": {
    "id": "979c1888-3bea-4d96-9f54-db2b46299ffa"
   },
   "source": [
    "So, we can see here that by using XGBoost the test accuracy has improved to 67.77%. To improve the predictions further we can tune it using RandomizedSearchCV."
   ]
  },
  {
   "cell_type": "code",
   "execution_count": null,
   "id": "396ba1fd-92d8-456a-a240-916dabc7abeb",
   "metadata": {
    "id": "396ba1fd-92d8-456a-a240-916dabc7abeb"
   },
   "outputs": [],
   "source": [
    "# Create Decision Tree classifer object\n",
    "xgb1 = XGBClassifier(nthread = -1, random_state=5)"
   ]
  },
  {
   "cell_type": "code",
   "execution_count": null,
   "id": "99ffe7fd-4b74-46d8-bdc5-aa52f3d9e14f",
   "metadata": {
    "id": "99ffe7fd-4b74-46d8-bdc5-aa52f3d9e14f"
   },
   "outputs": [],
   "source": [
    "#parameters for hyperparameter initialisation\n",
    "params = {\n",
    "            'learning_rate' : [0.05,0.10,0.15,0.20,0.25,0.30],\n",
    "            'max_depth' : randint(2,50),   #[3,4,5,6,7,8,9,10,11,12,13,14,15],\n",
    "            'min_child_weight' : randint(1,10), #[1,3,5,7],\n",
    "            'gamma' : [0.0,0.1,0.2,0.3,0.4],\n",
    "            'colsample_bytree' : [0.3,0.4,0.5,0.6,0.7]\n",
    "        }"
   ]
  },
  {
   "cell_type": "code",
   "execution_count": null,
   "id": "38274fdb-2e7a-412f-a4dd-b3214222d3e0",
   "metadata": {
    "id": "38274fdb-2e7a-412f-a4dd-b3214222d3e0"
   },
   "outputs": [],
   "source": [
    "#creating instance for RandomizedSearchCV\n",
    "random_search = RandomizedSearchCV(xgb1, param_distributions=params, n_iter=50, scoring='accuracy', n_jobs=-1, cv=10, verbose=3, random_state=5)"
   ]
  },
  {
   "cell_type": "code",
   "execution_count": null,
   "id": "efafafa9-80cf-493a-b690-1c027ce8d0a0",
   "metadata": {
    "colab": {
     "base_uri": "https://localhost:8080/",
     "height": 137
    },
    "id": "efafafa9-80cf-493a-b690-1c027ce8d0a0",
    "outputId": "f6059d13-6e62-411b-c4b3-88027ce5fb3b"
   },
   "outputs": [],
   "source": [
    "random_search.fit(train_x,train_y)"
   ]
  },
  {
   "cell_type": "code",
   "execution_count": null,
   "id": "62e786d3-0a99-4aa2-881b-e4956d885886",
   "metadata": {
    "colab": {
     "base_uri": "https://localhost:8080/"
    },
    "id": "62e786d3-0a99-4aa2-881b-e4956d885886",
    "outputId": "7a39354d-1952-46cb-a30a-3bb3414f6b4e"
   },
   "outputs": [],
   "source": [
    "#predicted best parameter\n",
    "random_search.best_params_"
   ]
  },
  {
   "cell_type": "code",
   "execution_count": null,
   "id": "d9c6f188-93c1-46e2-bc43-ca0a6b2a7d92",
   "metadata": {
    "colab": {
     "base_uri": "https://localhost:8080/",
     "height": 249
    },
    "id": "d9c6f188-93c1-46e2-bc43-ca0a6b2a7d92",
    "outputId": "b304709f-3f47-477c-a5f7-25fb0c8c97b2"
   },
   "outputs": [],
   "source": [
    "random_search.best_estimator_"
   ]
  },
  {
   "cell_type": "code",
   "execution_count": null,
   "id": "0069a81a-147f-4c44-9f09-9c6495efd3c1",
   "metadata": {
    "colab": {
     "base_uri": "https://localhost:8080/"
    },
    "id": "0069a81a-147f-4c44-9f09-9c6495efd3c1",
    "outputId": "74d6dd92-330d-45a7-807e-f6d4c0b01903"
   },
   "outputs": [],
   "source": [
    "# Create Decision Tree classifer object\n",
    "#clf = DecisionTreeClassifier(class_weight=None, criterion='log_loss', max_depth= 17, max_features='sqrt', splitter='best', random_state=5)\n",
    "#clf = DecisionTreeClassifier(class_weight=None, criterion='log_loss', max_depth=16, max_features=None, splitter='best', random_state=5)\n",
    "xgb1 = random_search.best_estimator_\n",
    "\n",
    "# Train Decision Tree Classifer\n",
    "xgb1 = xgb1.fit(train_x,train_y)\n",
    "\n",
    "#Predict the response for test dataset\n",
    "y_pred = xgb1.predict(test_x)\n",
    "\n",
    "# Model Accuracy, how often is the classifier correct?\n",
    "print(\"Accuracy:\",metrics.accuracy_score(test_y, y_pred))\n",
    "#After Tuning the accuracy has decreased."
   ]
  },
  {
   "cell_type": "code",
   "execution_count": null,
   "id": "c12238f3-6fdf-4123-9d93-c69d94a66415",
   "metadata": {
    "colab": {
     "base_uri": "https://localhost:8080/",
     "height": 462
    },
    "id": "c12238f3-6fdf-4123-9d93-c69d94a66415",
    "outputId": "e6bc9a4a-0103-4f3c-ee80-61c96e7f73d1"
   },
   "outputs": [],
   "source": [
    "import seaborn as sns\n",
    "print(\"Confusion Matrix\")\n",
    "cm = metrics.confusion_matrix(test_y, y_pred, labels=[0,1])\n",
    "cm\n",
    "df_cm = pd.DataFrame(cm, index = [i for i in [0,1]], columns = [i for i in ['Predict_No','Predict_Yes']])\n",
    "plt.figure(figsize = (7,5))\n",
    "sns.heatmap(df_cm, annot=True,fmt='d');"
   ]
  },
  {
   "cell_type": "markdown",
   "id": "abbfadef-86ae-43b1-85df-c3ca705e48c9",
   "metadata": {
    "id": "abbfadef-86ae-43b1-85df-c3ca705e48c9"
   },
   "source": [
    "**Model is predicting status 790 times (TP), 389 (FN) misclassifications and 880 (TN) and 380 (FP) misclassifications.**"
   ]
  },
  {
   "cell_type": "code",
   "execution_count": null,
   "id": "5123c7e2-e54b-46b7-ae25-a41d366d915f",
   "metadata": {
    "colab": {
     "base_uri": "https://localhost:8080/"
    },
    "id": "5123c7e2-e54b-46b7-ae25-a41d366d915f",
    "outputId": "5d44392c-55f2-4f8e-8af2-91837a380265"
   },
   "outputs": [],
   "source": [
    "print(\"Classification Report\")\n",
    "print(metrics.classification_report(test_y, y_pred, labels=[0,1]))"
   ]
  },
  {
   "cell_type": "markdown",
   "id": "e878c8e6-2bff-42c7-ba00-33a123cdab04",
   "metadata": {
    "id": "e878c8e6-2bff-42c7-ba00-33a123cdab04"
   },
   "source": [
    "LIMITATIONS-\n",
    "we can also see which year has maximum closed branches and maybe because of recession or COVID-19 and any particular month where the branches are closed."
   ]
  },
  {
   "cell_type": "markdown",
   "id": "111Vo33Bw6es",
   "metadata": {
    "id": "111Vo33Bw6es"
   },
   "source": [
    "<a id=\"ID_Result\"></a>\n",
    "| [1.0 Intro](#ID_intr) | [2.0 Lit. review](#ID_lit) | [3.0 Research Quest.](#ID_research) | [4.0 Data](#ID_data) | [5.0 Methodology](#ID_Method) | [6.0 Results](#ID_Result) | [Bibliography](#ID_biblio)  \n",
    "\n",
    "***\n",
    "## Results and Discussion"
   ]
  },
  {
   "cell_type": "markdown",
   "id": "dBR7alULxq9E",
   "metadata": {
    "id": "dBR7alULxq9E"
   },
   "source": [
    "The dataset we have is a problem of Classification. So, When we used the Decision Tree Classifier we got the accuracy of 63.38 which is not very good and shows the underfitting. To improve it further we added hyperparametrs. The confusion matrix for decision tree classifier.\n",
    "\n",
    "A confusion matrix represents the prediction summary in matrix form. It shows how many prediction are correct and incorrect per class. It helps in understanding the classes that are being confused by model as other class."
   ]
  },
  {
   "cell_type": "code",
   "execution_count": null,
   "id": "dzP-QRGuPchk",
   "metadata": {
    "id": "dzP-QRGuPchk"
   },
   "outputs": [],
   "source": []
  },
  {
   "cell_type": "code",
   "execution_count": null,
   "id": "lGItT4KROj74",
   "metadata": {
    "id": "lGItT4KROj74"
   },
   "outputs": [],
   "source": []
  },
  {
   "cell_type": "markdown",
   "id": "505aa40f-a82c-46fe-9890-5e1274ff581f",
   "metadata": {
    "id": "505aa40f-a82c-46fe-9890-5e1274ff581f"
   },
   "source": [
    "<a id=\"ID_biblio\"></a>\n",
    "| [1.0 Intro](#ID_intr) | [2.0 Lit. review](#ID_lit) | [3.0 Research Quest.](#ID_research) | [4.0 Data](#ID_data) | [5.0 Methodology](#ID_Method) | [6.0 Results](#ID_Result) | [Bibliography](#ID_biblio)  \n",
    "\n",
    "***\n",
    "## Bibliography\n",
    "\n",
    " \n",
    "* Clark, S., Newing, A., Hood, N. & Birkin, M. (2023) Retail banking closures in the United Kingdom. Are neighbourhood characteristics associated with retail bank branch closures? Transactions of the Institute of British Geographers, 00, 1–20. Available from: https://doi.org/10.1111/tran.12656\n",
    " \n",
    "\n",
    "* Sonea, A. and Westerholt, R. (2021) Geographic and temporal access to basic banking services offered through post offices in Wales - Applied Spatial Analysis and policy, SpringerLink. Available at: https://link.springer.com/article/10.1007/s12061-021-09386-3 (Accessed: 18 April 2024).\n",
    "\n",
    "* Sonea, A., Guo,W., & Jarvis, S (2019). Exploratory spatial analysis of access to physical and digital retail \n",
    "banking channels. Tech rep., Think Forward Initiative, Amsterdam.\n",
    "\n",
    "* Sklearn.model_selection.RANDOMIZEDSEARCHCV (no date) scikit. Available at: https://scikit-learn.org/stable/modules/generated/sklearn.model_selection.RandomizedSearchCV.html (Accessed: 16 April 2024).\n",
    "\n",
    "* The Post Office Network Report 2021. Available at: https://corporate.postoffice.co.uk/media/lzkfri54/network-report-2020-21-regular-print-final-2.pdf (Accessed: 18 April 2024). \n",
    "\n",
    "* Treasury, H. (2022) New powers to protect access to cash, GOV.UK. Available at: https://www.gov.uk/government/news/new-powers-to-protect-access-to-cash (Accessed: 12 April 2024)\n",
    "\n",
    "* UK Bank & Building Societies Points (2021) Geolytix. Available at: https://geolytix.com/blog/banking-building-societies-locations/ (Accessed: 18 April 2024). .\n",
    "\n",
    "\n",
    "* University of Bristol (2022) Bank closures drive people to the post office to handle cash, September: Bank closure impact on Post Offices | News and features | University of Bristol. Available at: https://www.bristol.ac.uk/news/2022/september/bank-closure-impact-on-post-offices.html (Accessed: 12 April 2024)\n",
    "\n",
    "* Which firms does the PRA regulate? (2023) Bank of England. Available at: https://www.bankofengland.co.uk/prudential-regulation/authorisations/which-firms-does-the-pra-regulate (Accessed: 13 April 2024)..\n",
    "\n",
    "\n",
    "  \n",
    "\n",
    "  \n"
   ]
  }
 ],
 "metadata": {
  "colab": {
   "provenance": []
  },
  "kernelspec": {
   "display_name": "Python 3 (ipykernel)",
   "language": "python",
   "name": "python3"
  },
  "language_info": {
   "codemirror_mode": {
    "name": "ipython",
    "version": 3
   },
   "file_extension": ".py",
   "mimetype": "text/x-python",
   "name": "python",
   "nbconvert_exporter": "python",
   "pygments_lexer": "ipython3",
   "version": "3.11.5"
  }
 },
 "nbformat": 4,
 "nbformat_minor": 5
}
