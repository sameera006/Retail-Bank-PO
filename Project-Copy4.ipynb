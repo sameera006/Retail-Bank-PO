{
 "cells": [
  {
   "cell_type": "markdown",
   "id": "575bd192",
   "metadata": {
    "id": "575bd192"
   },
   "source": [
    "# MegaHacakthon - Voksedigital\n",
    "\n",
    "### Submitted by: Asif Husain"
   ]
  },
  {
   "cell_type": "markdown",
   "id": "8f91131f",
   "metadata": {
    "id": "8f91131f"
   },
   "source": [
    "## Importing Essential Libraries"
   ]
  },
  {
   "cell_type": "code",
   "execution_count": 57,
   "id": "n3GQmDjlv6Ce",
   "metadata": {
    "colab": {
     "base_uri": "https://localhost:8080/"
    },
    "executionInfo": {
     "elapsed": 3708,
     "status": "ok",
     "timestamp": 1662911210178,
     "user": {
      "displayName": "Greengeo Engineering Consultants",
      "userId": "08051006041641402633"
     },
     "user_tz": -330
    },
    "id": "n3GQmDjlv6Ce",
    "outputId": "cf9bf444-bcf4-4a64-f3df-8f3e78847b60"
   },
   "outputs": [
    {
     "name": "stdout",
     "output_type": "stream",
     "text": [
      "Drive already mounted at /content/drive; to attempt to forcibly remount, call drive.mount(\"/content/drive\", force_remount=True).\n"
     ]
    }
   ],
   "source": [
    "from google.colab import drive\n",
    "drive.mount('/content/drive')"
   ]
  },
  {
   "cell_type": "code",
   "execution_count": 58,
   "id": "b8705c95-9112-4703-8004-5b939bd626a1",
   "metadata": {
    "executionInfo": {
     "elapsed": 17,
     "status": "ok",
     "timestamp": 1662911210179,
     "user": {
      "displayName": "Greengeo Engineering Consultants",
      "userId": "08051006041641402633"
     },
     "user_tz": -330
    },
    "id": "b8705c95-9112-4703-8004-5b939bd626a1",
    "tags": []
   },
   "outputs": [],
   "source": [
    "#!pip install imblearn"
   ]
  },
  {
   "cell_type": "code",
   "execution_count": 59,
   "id": "2b8b7e71-463b-4c41-8009-33c69f9bb036",
   "metadata": {
    "executionInfo": {
     "elapsed": 18,
     "status": "ok",
     "timestamp": 1662911210180,
     "user": {
      "displayName": "Greengeo Engineering Consultants",
      "userId": "08051006041641402633"
     },
     "user_tz": -330
    },
    "id": "2b8b7e71-463b-4c41-8009-33c69f9bb036",
    "tags": []
   },
   "outputs": [],
   "source": [
    "#!pip install pandas_summary"
   ]
  },
  {
   "cell_type": "code",
   "execution_count": 60,
   "id": "8f2ec87b-ea1f-4f6c-9039-8f7e04afed44",
   "metadata": {
    "executionInfo": {
     "elapsed": 17,
     "status": "ok",
     "timestamp": 1662911210181,
     "user": {
      "displayName": "Greengeo Engineering Consultants",
      "userId": "08051006041641402633"
     },
     "user_tz": -330
    },
    "id": "8f2ec87b-ea1f-4f6c-9039-8f7e04afed44",
    "tags": []
   },
   "outputs": [],
   "source": [
    "#!pip install xgboost"
   ]
  },
  {
   "cell_type": "code",
   "execution_count": 61,
   "id": "ab1a6be8",
   "metadata": {
    "executionInfo": {
     "elapsed": 18,
     "status": "ok",
     "timestamp": 1662911210182,
     "user": {
      "displayName": "Greengeo Engineering Consultants",
      "userId": "08051006041641402633"
     },
     "user_tz": -330
    },
    "id": "ab1a6be8"
   },
   "outputs": [],
   "source": [
    "import pandas as pd\n",
    "import numpy as np\n",
    "import matplotlib.pyplot as plt\n",
    "import seaborn as sns\n",
    "\n",
    "from scipy.stats import zscore, uniform, randint\n",
    "\n",
    "from scipy import stats\n",
    "\n",
    "\n",
    "from sklearn.model_selection import train_test_split\n",
    "from sklearn.model_selection import RandomizedSearchCV\n",
    "\n",
    "from sklearn.linear_model import LogisticRegression\n",
    "from sklearn.neighbors import KNeighborsClassifier\n",
    "from sklearn.naive_bayes import GaussianNB\n",
    "from sklearn import svm\n",
    "from sklearn.tree import DecisionTreeClassifier\n",
    "from sklearn.ensemble import RandomForestClassifier, AdaBoostClassifier\n",
    "from xgboost import XGBClassifier\n",
    "from sklearn.ensemble import GradientBoostingClassifier\n",
    "\n",
    "#from sklearn.cluster import KMeans\n",
    "#from sklearn.decomposition import PCA\n",
    "\n",
    "from sklearn import metrics\n",
    "from sklearn.metrics import confusion_matrix,classification_report,accuracy_score,precision_score,recall_score\n",
    "#from imblearn.over_sampling import RandomOverSampler\n",
    "\n",
    "import pickle\n",
    "\n",
    "from datetime import datetime\n",
    "\n",
    "import warnings\n",
    "warnings.filterwarnings(\"ignore\")\n",
    "%matplotlib inline"
   ]
  },
  {
   "cell_type": "code",
   "execution_count": 62,
   "id": "4384167f-db1c-481e-b455-4f31b7f33f24",
   "metadata": {
    "executionInfo": {
     "elapsed": 17,
     "status": "ok",
     "timestamp": 1662911210182,
     "user": {
      "displayName": "Greengeo Engineering Consultants",
      "userId": "08051006041641402633"
     },
     "user_tz": -330
    },
    "id": "4384167f-db1c-481e-b455-4f31b7f33f24"
   },
   "outputs": [],
   "source": [
    "#time function to monitor model runtime\n",
    "def timer(start_time=None):\n",
    "    if not start_time:\n",
    "        start_time = datetime.now()\n",
    "        return start_time\n",
    "    elif start_time:\n",
    "        thour, temp_sec = divmod((datetime.now() - start_time).total_seconds(), 3600)\n",
    "        tmin, tsec = divmod(temp_sec, 60)\n",
    "        print('\\n Time taken: %i hours %i minutes and %s seconds.' % (thour, tmin, round(tsec, 2)))"
   ]
  },
  {
   "cell_type": "code",
   "execution_count": 63,
   "id": "d736bfb3",
   "metadata": {
    "executionInfo": {
     "elapsed": 18,
     "status": "ok",
     "timestamp": 1662911210183,
     "user": {
      "displayName": "Greengeo Engineering Consultants",
      "userId": "08051006041641402633"
     },
     "user_tz": -330
    },
    "id": "d736bfb3"
   },
   "outputs": [],
   "source": [
    "# Set Options\n",
    "pd.set_option('display.max_rows', 100)\n",
    "pd.set_option('display.max_columns', 600)\n",
    "%matplotlib inline\n",
    "warnings.filterwarnings(\"ignore\")"
   ]
  },
  {
   "cell_type": "markdown",
   "id": "5dc2e007",
   "metadata": {
    "id": "5dc2e007"
   },
   "source": [
    "# Import Data"
   ]
  },
  {
   "cell_type": "code",
   "execution_count": 64,
   "id": "24a60c0e",
   "metadata": {
    "executionInfo": {
     "elapsed": 18,
     "status": "ok",
     "timestamp": 1662911210183,
     "user": {
      "displayName": "Greengeo Engineering Consultants",
      "userId": "08051006041641402633"
     },
     "user_tz": -330
    },
    "id": "24a60c0e"
   },
   "outputs": [],
   "source": [
    "#Function for importing data and checkign their Shape\n",
    "def Import_data(file_name):\n",
    "    DF1 = pd.read_csv(file_name)                    #Read CSV file\n",
    "    return DF1"
   ]
  },
  {
   "cell_type": "markdown",
   "id": "348c5d38",
   "metadata": {
    "id": "348c5d38"
   },
   "source": [
    "# Function to remove features with 25%+ Null values"
   ]
  },
  {
   "cell_type": "code",
   "execution_count": 65,
   "id": "c24ef1c4",
   "metadata": {
    "executionInfo": {
     "elapsed": 19,
     "status": "ok",
     "timestamp": 1662911210184,
     "user": {
      "displayName": "Greengeo Engineering Consultants",
      "userId": "08051006041641402633"
     },
     "user_tz": -330
    },
    "id": "c24ef1c4",
    "tags": []
   },
   "outputs": [],
   "source": [
    "# Function for checking null values and imputing mean for all null values\n",
    "def treat_null_values(data):\n",
    "    columns = data.columns\n",
    "    for col in columns:\n",
    "        missing_percentage = data[col].isna().sum()/data.shape[0]*100\n",
    "        col_dtype = data[col].dtype\n",
    "        #print(col,':',missing_percentage,col_dtype)\n",
    "        if missing_percentage > 25:\n",
    "            data = data.drop(col,axis=1)\n",
    "            print(col,'dropped:',missing_percentage)\n",
    "        elif col_dtype == 'object' :\n",
    "            data[col].fillna(data[col].mode()[0],inplace=True)\n",
    "        else:\n",
    "            data[col].fillna(data[col].mean(),inplace=True)\n",
    "    return data"
   ]
  },
  {
   "cell_type": "markdown",
   "id": "4df3d82b-d3d8-4d4d-b167-81575a29ad4f",
   "metadata": {
    "id": "4df3d82b-d3d8-4d4d-b167-81575a29ad4f",
    "tags": []
   },
   "source": [
    "# Unexpected Values"
   ]
  },
  {
   "cell_type": "code",
   "execution_count": 66,
   "id": "d78a9051-cd9b-46f2-b038-5a061ad25f6f",
   "metadata": {
    "executionInfo": {
     "elapsed": 19,
     "status": "ok",
     "timestamp": 1662911210185,
     "user": {
      "displayName": "Greengeo Engineering Consultants",
      "userId": "08051006041641402633"
     },
     "user_tz": -330
    },
    "id": "d78a9051-cd9b-46f2-b038-5a061ad25f6f"
   },
   "outputs": [],
   "source": [
    "import re"
   ]
  },
  {
   "cell_type": "code",
   "execution_count": 67,
   "id": "1218c6ef-da35-4a5f-8f4e-e28bbd72f26d",
   "metadata": {
    "executionInfo": {
     "elapsed": 20,
     "status": "ok",
     "timestamp": 1662911210186,
     "user": {
      "displayName": "Greengeo Engineering Consultants",
      "userId": "08051006041641402633"
     },
     "user_tz": -330
    },
    "id": "1218c6ef-da35-4a5f-8f4e-e28bbd72f26d"
   },
   "outputs": [],
   "source": [
    "# Function for checking unexpected values in columns\n",
    "def treat_unexpected_values(data):\n",
    "    #print(data.columns)\n",
    "    for col in data.columns[1:]:\n",
    "        print('\\nChecking Column: ',col)\n",
    "        temp = data[data[col].astype(str).str.contains('[^A-Za-z0-9. ]')]\n",
    "        if temp.shape[0] == 0:\n",
    "            print(\"No Unexpected values found in column\",col)\n",
    "        else:\n",
    "            print(\"Unexpected values found in column\",col)\n",
    "            print(temp[col].unique())\n",
    "                     \n",
    "            #calculating median values for normal rows\n",
    "            #median = data[data[col].astype(str).str.contains('[0-9.]')].median()\n",
    "            \n",
    "            #imputing median values \n",
    "            #data[col].replace('?',str(median[col]),inplace=True)\n",
    "            \n",
    "            #print(data[col].mode()[0])\n",
    "            #data[col].replace('?',str(data[col].mode()[0]),inplace=True)\n",
    "            \n",
    "            #print('Imputation Successful')\n",
    "            \n",
    "    #return data"
   ]
  },
  {
   "cell_type": "markdown",
   "id": "64c8248c",
   "metadata": {
    "id": "64c8248c"
   },
   "source": [
    "# Drop the features which are having same value more than 90%"
   ]
  },
  {
   "cell_type": "code",
   "execution_count": 68,
   "id": "2025645b",
   "metadata": {
    "executionInfo": {
     "elapsed": 23,
     "status": "ok",
     "timestamp": 1662911210189,
     "user": {
      "displayName": "Greengeo Engineering Consultants",
      "userId": "08051006041641402633"
     },
     "user_tz": -330
    },
    "id": "2025645b"
   },
   "outputs": [],
   "source": [
    "# Function for checking columns with same value in all rows\n",
    "def check_low_deviation(data):\n",
    "    columns = data.columns\n",
    "    for col in columns[1:-1]:\n",
    "        #col_dtype = data[col].dtype\n",
    "        #if col_dtype == 'object':\n",
    "        #mode = data[col].mode()[0]\n",
    "        #print(data[col].value_counts())\n",
    "        temp = data[col].value_counts()\n",
    "        #print(temp)\n",
    "        #print(temp.iloc[0])\n",
    "        mode_percentage = temp.iloc[0]/data.shape[0]*100\n",
    "        if mode_percentage > 90:\n",
    "            data = data.drop(col,axis=1)\n",
    "            print(col,':',mode_percentage)\n",
    "                \n",
    "        #sd = data[col].std()\n",
    "        #if sd == 0:\n",
    "        #    data = data.drop(col,axis=1)\n",
    "        #    print(col,':',sd)\n",
    "    return data"
   ]
  },
  {
   "cell_type": "markdown",
   "id": "a9d89e69-576f-4599-9e82-d969f2cc0215",
   "metadata": {
    "id": "a9d89e69-576f-4599-9e82-d969f2cc0215"
   },
   "source": [
    "# Duplicates"
   ]
  },
  {
   "cell_type": "code",
   "execution_count": 69,
   "id": "96b1ce2a-5aeb-4bc7-b188-a85aa5445ef0",
   "metadata": {
    "executionInfo": {
     "elapsed": 22,
     "status": "ok",
     "timestamp": 1662911210189,
     "user": {
      "displayName": "Greengeo Engineering Consultants",
      "userId": "08051006041641402633"
     },
     "user_tz": -330
    },
    "id": "96b1ce2a-5aeb-4bc7-b188-a85aa5445ef0"
   },
   "outputs": [],
   "source": [
    "#Function for checking duplicate rows in data\n",
    "def treat_duplicates(data):\n",
    "    duplicate_rows = data[data.duplicated(keep='first')]\n",
    "    if duplicate_rows.shape[0] == 0:\n",
    "        print('No duplicate rows in data.')\n",
    "    else:\n",
    "        print(duplicate_rows)"
   ]
  },
  {
   "cell_type": "markdown",
   "id": "6d283afe-3ca4-4bdf-9189-a7968f93d249",
   "metadata": {
    "id": "6d283afe-3ca4-4bdf-9189-a7968f93d249"
   },
   "source": [
    "# Pie-plots"
   ]
  },
  {
   "cell_type": "code",
   "execution_count": 70,
   "id": "189f7eb3-8ac7-4e6b-aea2-9366208bcdc3",
   "metadata": {
    "executionInfo": {
     "elapsed": 23,
     "status": "ok",
     "timestamp": 1662911210190,
     "user": {
      "displayName": "Greengeo Engineering Consultants",
      "userId": "08051006041641402633"
     },
     "user_tz": -330
    },
    "id": "189f7eb3-8ac7-4e6b-aea2-9366208bcdc3"
   },
   "outputs": [],
   "source": [
    "# Function for creating Pie-chart\n",
    "def pieplots(data):\n",
    "    col_names = data.columns[1:]\n",
    "    for col in col_names:\n",
    "        print('Pie of column',col)\n",
    "        temp_data = data[col].value_counts()\n",
    "        print(temp_data)\n",
    "        plt.pie(temp_data, labels=temp_data.index, autopct='%.1f%%');\n",
    "        plt.show()"
   ]
  },
  {
   "cell_type": "markdown",
   "id": "5bc3898a-4d4b-473c-86d8-2b087be84bf8",
   "metadata": {
    "id": "5bc3898a-4d4b-473c-86d8-2b087be84bf8",
    "tags": []
   },
   "source": [
    "# Encoding ordinal and nominal colums"
   ]
  },
  {
   "cell_type": "code",
   "execution_count": 71,
   "id": "cf3244d3-f389-48a0-9527-c977dfb46bbb",
   "metadata": {
    "executionInfo": {
     "elapsed": 24,
     "status": "ok",
     "timestamp": 1662911210191,
     "user": {
      "displayName": "Greengeo Engineering Consultants",
      "userId": "08051006041641402633"
     },
     "user_tz": -330
    },
    "id": "cf3244d3-f389-48a0-9527-c977dfb46bbb"
   },
   "outputs": [],
   "source": [
    "\"\"\" \n",
    "----- Ordinal ---- Custome Encoding\n",
    "'educ'\n",
    "\n",
    "----- Nominal ----  One-Hot Encoding\n",
    "'race', 'father_country','house_stat','major_ind_code','self_country','mother_country','house_summary','hisp_origin','marriage_status','citizenship','fed_liability',\n",
    "'full_partime_job'\n",
    "\n",
    "\"\"\"\n",
    "\n",
    "#This function encode categorical data\n",
    "\n",
    "def encoding(data):\n",
    "    data= pd.get_dummies(data, columns=['gender','race', 'father_country','house_stat','major_ind_code','mother_country',\n",
    "                                              'house_summary','hisp_origin','marriage_status','citizenship','fed_liability', 'full_partime_job'],\n",
    "                               drop_first = True) \n",
    "    \n",
    "    data['educ'].replace([' Associates degree-academic program', ' Children',\n",
    "       ' Some college but no degree', ' High school graduate',\n",
    "       ' 10th grade', ' Prof school degree (MD DDS DVM LLB JD)',\n",
    "       ' Bachelors degree(BA AB BS)', ' 7th and 8th grade',\n",
    "       ' 5th or 6th grade', ' 9th grade', ' 11th grade',\n",
    "       ' Masters degree(MA MS MEng MEd MSW MBA)',\n",
    "       ' Associates degree-occup /vocational',\n",
    "       ' 1st 2nd 3rd or 4th grade', ' Less than 1st grade',\n",
    "       ' 12th grade no diploma', ' Doctorate degree(PhD EdD)'], [14, 1, 11, 8, 7, 15, 12, 5, 4, 6, 9, 16, 13, 3, 2, 10, 17],inplace=True)\n",
    "    \n",
    "    #data['income'].replace(['More than 50K $', 'Less than 50K $'],[0,1],inplace=True)\n",
    "    \n",
    "    return data"
   ]
  },
  {
   "cell_type": "code",
   "execution_count": 72,
   "id": "cbf4d3dc-66c2-43fa-876e-b711659323fd",
   "metadata": {
    "executionInfo": {
     "elapsed": 24,
     "status": "ok",
     "timestamp": 1662911210191,
     "user": {
      "displayName": "Greengeo Engineering Consultants",
      "userId": "08051006041641402633"
     },
     "user_tz": -330
    },
    "id": "cbf4d3dc-66c2-43fa-876e-b711659323fd"
   },
   "outputs": [],
   "source": [
    "def frequency_encoding(data):\n",
    "    #X = data.drop(['ID','income'],axis=1)\n",
    "    #Y = data['income']\n",
    "    #data['income'].replace(['More than 50K $', 'Less than 50K $'],[0,1],inplace=True)\n",
    "    cat_columns = data.select_dtypes(include=['object']).columns\n",
    "    for col in cat_columns:\n",
    "        if col != 'income':\n",
    "            frequency = data.groupby(col).size()\n",
    "            #print(frequency)\n",
    "            #freq_encoded_col = data.groupby([col])['income'].size().to_dict()\n",
    "            data[col] =  data[col].map(frequency)\n",
    "    return data"
   ]
  },
  {
   "cell_type": "code",
   "execution_count": 73,
   "id": "9ecf0623-e976-42ce-a5cc-56b182cdaaba",
   "metadata": {
    "executionInfo": {
     "elapsed": 25,
     "status": "ok",
     "timestamp": 1662911210192,
     "user": {
      "displayName": "Greengeo Engineering Consultants",
      "userId": "08051006041641402633"
     },
     "user_tz": -330
    },
    "id": "9ecf0623-e976-42ce-a5cc-56b182cdaaba"
   },
   "outputs": [],
   "source": [
    "def mixed_encoding(data):\n",
    "    col_less_categories = []\n",
    "    cat_columns = data.select_dtypes(include=['object']).columns\n",
    "    \n",
    "    # Frequency encoding for columns with higher nos. of categories\n",
    "    for col in cat_columns:\n",
    "        if data[col].nunique()>10:\n",
    "            if col != 'income':\n",
    "                frequency = data.groupby(col).size()\n",
    "                data[col] =  data[col].map(frequency)\n",
    "        else:\n",
    "            if col != 'income':\n",
    "                col_less_categories.append(col)\n",
    "    \n",
    "    # One-hot encoding for columns with higher nos. of categories\n",
    "    data= pd.get_dummies(data, columns=col_less_categories,drop_first = True)\n",
    "            \n",
    "    return data"
   ]
  },
  {
   "cell_type": "markdown",
   "id": "7a2ef990",
   "metadata": {
    "id": "7a2ef990"
   },
   "source": [
    "# DATA PRE-PROCESSING"
   ]
  },
  {
   "cell_type": "code",
   "execution_count": 74,
   "id": "9be68d79-b790-46d5-a6b5-1b050941bd4a",
   "metadata": {
    "executionInfo": {
     "elapsed": 24,
     "status": "ok",
     "timestamp": 1662911210192,
     "user": {
      "displayName": "Greengeo Engineering Consultants",
      "userId": "08051006041641402633"
     },
     "user_tz": -330
    },
    "id": "9be68d79-b790-46d5-a6b5-1b050941bd4a"
   },
   "outputs": [],
   "source": [
    "# Function to preprocesss the data\n",
    "\n",
    "def preprocess_data(path_train_csv,path_test_csv,target_feature):\n",
    "    \n",
    "    print('\\nINITIALISING DATA PRE-PROCESSING')\n",
    "    \n",
    "    train = Import_data(file_name = path_train_csv)\n",
    "\n",
    "    test = Import_data(file_name = path_test_csv)\n",
    "     \n",
    "    train1 = treat_null_values(train)\n",
    "    \n",
    "    test1 = treat_null_values(test)\n",
    "\n",
    "    for col_name in ['father_country','mother_country','self_country']:\n",
    "        train1[col_name].replace(' ?',str(train1[col_name].mode()[0]),inplace=True)\n",
    "        test1[col_name].replace(' ?',str(test1[col_name].mode()[0]),inplace=True)\n",
    "\n",
    "    train2 = check_low_deviation(train1)\n",
    "    test2 = check_low_deviation(test1)\n",
    "\n",
    "    train_encoded = encoding(train2)\n",
    "    test_encoded = encoding(test2)\n",
    "    \n",
    "    #train_encoded = frequency_encoding(train2)\n",
    "    #test_encoded = frequency_encoding(test2)\n",
    "    \n",
    "    #train_encoded = mixed_encoding(train2)\n",
    "    #test_encoded = mixed_encoding(test2)\n",
    "    \n",
    "    #print(train_encoded.head())\n",
    "    \n",
    "    #print(train_encoded.info())\n",
    "    \n",
    "    train_encoded[target_feature].replace(['More than 50K $', 'Less than 50K $'],[0,1],inplace=True)\n",
    "    train_encoded[target_feature] = train_encoded[target_feature].astype('category')\n",
    "    \n",
    "    regex = re.compile(r\"\\[|\\]|<| \", re.IGNORECASE)\n",
    "    train_encoded.columns = [regex.sub(\"_\", col) if any(x in str(col) for x in set(('[', ']', '<',' '))) else col for col in train_encoded.columns.values]\n",
    "    test_encoded.columns = [regex.sub(\"_\", col) if any(x in str(col) for x in set(('[', ']', '<',' '))) else col for col in test_encoded.columns.values]\n",
    "    \n",
    "    #print(train_encoded.head())\n",
    "    #print(train_encoded.info())\n",
    "    \n",
    "    #print(test_encoded.head())\n",
    "    #print(test_encoded.info())\n",
    "    \n",
    "    #X_Scaled = X_data.apply(zscore)\n",
    "      \n",
    "    # Impute duplicate values\n",
    "    #df.drop_duplicates(inplace=True)\n",
    "    \n",
    "    #print(train_encoded.columns)\n",
    "    #print(test_encoded.columns)\n",
    "    \n",
    "    return train_encoded,test_encoded,target_feature"
   ]
  },
  {
   "cell_type": "markdown",
   "id": "8ea44962-6aac-48f7-9483-81d33a2d7db5",
   "metadata": {
    "id": "8ea44962-6aac-48f7-9483-81d33a2d7db5",
    "tags": []
   },
   "source": [
    "# MODEL BUILDING"
   ]
  },
  {
   "cell_type": "code",
   "execution_count": 75,
   "id": "708f83df-5731-4446-af6d-d0a0fd1ef3f3",
   "metadata": {
    "colab": {
     "base_uri": "https://localhost:8080/",
     "height": 134
    },
    "executionInfo": {
     "elapsed": 24,
     "status": "error",
     "timestamp": 1662911210192,
     "user": {
      "displayName": "Greengeo Engineering Consultants",
      "userId": "08051006041641402633"
     },
     "user_tz": -330
    },
    "id": "708f83df-5731-4446-af6d-d0a0fd1ef3f3",
    "outputId": "4d041394-6d9e-4d2e-eeae-d01be36b299c"
   },
   "outputs": [
    {
     "ename": "SyntaxError",
     "evalue": "ignored",
     "output_type": "error",
     "traceback": [
      "\u001b[0;36m  File \u001b[0;32m\"<ipython-input-75-61d256348ddd>\"\u001b[0;36m, line \u001b[0;32m48\u001b[0m\n\u001b[0;31m    Interate through models, train and measure performance\u001b[0m\n\u001b[0m                   ^\u001b[0m\n\u001b[0;31mSyntaxError\u001b[0m\u001b[0;31m:\u001b[0m invalid syntax\n"
     ]
    }
   ],
   "source": [
    "# Function to try various models and get performances of all the models\n",
    "def train_model(preprocessed_df,target_feature):\n",
    "\n",
    "    print('\\nINITIALISING MODEL TRAINING')\n",
    "    \n",
    "    # Initialize variables\n",
    "    model_list = []\n",
    "    train_acc_list = []\n",
    "    test_acc_list = []\n",
    "    test_precision_list = []\n",
    "    test_recall_list = []\n",
    "    \n",
    "    X = preprocessed_df.copy()\n",
    "    X.drop('ID',axis=1,inplace=True)\n",
    "    X.drop(target_feature,axis=1,inplace=True)\n",
    "    y = preprocessed_df[target_feature]\n",
    "    \n",
    "    X_Scaled = X.apply(zscore)\n",
    "\n",
    "    #print(X_Scaled.columns[X_Scaled.columns.str.contains(\"[\\[|\\]|<| ]\")])\n",
    "    regex = re.compile(r\"\\[|\\]|<| \", re.IGNORECASE)\n",
    "    X_Scaled.columns = [regex.sub(\"_\", col) if any(x in str(col) for x in set(('[', ']', '<',' '))) else col for col in X_Scaled.columns.values]\n",
    "    #test.columns = [regex.sub(\"_\", col) if any(x in str(col) for x in set(('[', ']', '<',' '))) else col for col in test.columns.values]\n",
    "\n",
    "    # Split into train and test\n",
    "    X_train,X_test,y_train,y_test = train_test_split(X_Scaled,y,test_size=0.3,random_state=5)\n",
    "    \n",
    "    print(X_train.shape)\n",
    "    print(y_train.shape)\n",
    "    \n",
    "    # Intialize models\n",
    "    lr = LogisticRegression(random_state=5)\n",
    "    #nb = GaussianNB()\n",
    "    svcm = svm.SVC(random_state=5)\n",
    "    dt = DecisionTreeClassifier(random_state=5)\n",
    "    rf = RandomForestClassifier(random_state=5)\n",
    "    xgb = XGBClassifier(random_state=5)\n",
    "    ada = AdaBoostClassifier(random_state=5)\n",
    "    gdbc = GradientBoostingClassifier(random_state=5)\n",
    "    knn = KNeighborsClassifier()\n",
    "    model_list = [lr,dt,rf,xgb,ada,gdbc]\n",
    "    #model_list = [lr,dt,rf,xgb,ada]\n",
    "    #model_list = [ada]\n",
    "    \n",
    "    col_names = ['Model','Train_accuracy','Test_accuracy','Test_precision','Test_recall']\n",
    "    model_performance = pd.DataFrame(columns=col_names)\n",
    "    \n",
    "    Interate through models, train and measure performance\n",
    "    for idx,i in enumerate(model_list):\n",
    "      i.fit(X_train,y_train)\n",
    "      train_pred= i.predict(X_train)\n",
    "      test_pred = i.predict(X_test)\n",
    "      print(i)\n",
    "                \n",
    "    '''for idx,i in enumerate(model_list):\n",
    "        if i == xgb:\n",
    "            model_name = 'xgb'\n",
    "        elif i == lr:\n",
    "            model_name = 'lr'\n",
    "        elif i == dt:\n",
    "            model_name = 'dt'\n",
    "        elif i == gdbc:\n",
    "            model_name = 'gdbc'\n",
    "        elif i == ada:\n",
    "            model_name = 'ada'\n",
    "        elif i == rf:\n",
    "            model_name = 'rf'\n",
    "        elif i == svcm:\n",
    "            model_name = 'svcm'\n",
    "        elif i == knn:\n",
    "            model_name = 'knn'\n",
    "        train_pred,test_pred = hyperparameter_tuning(i,model_name,X_train,y_train,X_test)'''\n",
    "        \n",
    "\n",
    "        \n",
    "        train_acc = accuracy_score(y_train,train_pred)\n",
    "        test_acc = accuracy_score(y_test,test_pred)\n",
    "        test_precision = precision_score(y_test,test_pred,average='weighted')\n",
    "        test_recall = recall_score(y_test,test_pred,average='weighted')\n",
    "\n",
    "        model_performance.loc[len(model_performance.index)] = [i,train_acc,test_acc,test_precision,test_recall]\n",
    "        \n",
    "    print(model_performance)\n",
    "        \n",
    "    return model_performance,X_train,y_train"
   ]
  },
  {
   "cell_type": "code",
   "execution_count": null,
   "id": "4391258d-7912-45c1-8395-f6f8f9dd6b11",
   "metadata": {
    "executionInfo": {
     "elapsed": 24,
     "status": "aborted",
     "timestamp": 1662911210193,
     "user": {
      "displayName": "Greengeo Engineering Consultants",
      "userId": "08051006041641402633"
     },
     "user_tz": -330
    },
    "id": "4391258d-7912-45c1-8395-f6f8f9dd6b11"
   },
   "outputs": [],
   "source": [
    "def hyperparameter_tuning(model,model_name,X_train,y_train,X_test):\n",
    "    \n",
    "    if model_name == 'xgb':\n",
    "        param = {\n",
    "            'learning_rate': uniform(.05, .3)\n",
    "            , 'subsample': uniform(.2, .3)\n",
    "            , 'n_estimators': randint(20, 70)\n",
    "            , 'min_child_weight': randint(1, 40)\n",
    "            , 'reg_alpha': uniform(0, .7)\n",
    "            , 'gamma': uniform(0, .7)\n",
    "            , 'reg_lambda': uniform(0, .7)\n",
    "            , 'colsample_bytree': uniform(.1, .7)\n",
    "            , 'max_depth': randint(2, 6)\n",
    "        }\n",
    "    elif model_name == 'lr':\n",
    "        param = {\n",
    "            'penalty': ['l1', 'l2', 'elasticnet']\n",
    "            , 'C': uniform(0.001,100)\n",
    "            , 'fit_intercept': [True,False]\n",
    "            , 'class_weight': ['balanced',None]\n",
    "            , 'solver': ['newton-cg','lbfgs','sag','saga']\n",
    "            , 'multi_class': ['auto','over','multinomial']\n",
    "            , 'l1_ratio': uniform(0.01, 0.99)\n",
    "            , 'warm_start': [True,False]\n",
    "        }\n",
    "    elif model_name == 'dt':\n",
    "        param = {\n",
    "            'criterion': ['gini', 'entropy', 'log_loss']\n",
    "            , 'splitter': ['best','random']\n",
    "            , 'max_depth': randint(2,30)\n",
    "            , 'max_features': ['auto','sqrt','log2',None]\n",
    "            , 'class_weight': ['balanced',None]\n",
    "        }\n",
    "    elif model_name == 'gdbc':\n",
    "        param = {\n",
    "            'loss': ['log_loss', 'deviance', 'exponential']\n",
    "            , 'learning_rate': uniform(.0, 100)\n",
    "            , 'criterion': ['friedman_mse','squared_error','mse']\n",
    "            #, 'max_depth': randint(2,15)\n",
    "            , 'max_features': ['auto','sqrt','log2',None]\n",
    "            #, 'ccp_alpha': uniform(0.01, 100)\n",
    "        }\n",
    "    elif model_name == 'ada':\n",
    "        param = {\n",
    "            'n_estimators': randint(10,200)\n",
    "            , 'learning_rate': uniform(.001, 100)\n",
    "            , 'algorithm': ['SAMME','SAMME.R']\n",
    "        }\n",
    "    elif model_name == 'rf':\n",
    "        param = {\n",
    "            'n_estimators': randint(10,200)\n",
    "            , 'criterion': ['gini','entropy','log_loss']\n",
    "            , 'max_depth': randint(2,30)\n",
    "            , 'max_features': ['sqrt','log2',None]\n",
    "            , 'bootstrap': [True,False]\n",
    "            , 'class_weight': ['balanced','balanced_subsample',None]\n",
    "            , 'max_samples': uniform(0.0,1.0)\n",
    "        }\n",
    "    elif model_name == 'svcm':\n",
    "        param = {\n",
    "            'C': uniform(0.001,100)\n",
    "            , 'kernel': ['linear','rbf','sigmoid','precomputed']\n",
    "            , 'gamma': uniform(0,100)\n",
    "            , 'shrinking': ['True','False']\n",
    "            , 'decision_function_shape': ['ovo','ovr']\n",
    "            , 'class_weight': ['balanced',None]\n",
    "        }\n",
    "    \n",
    "    \n",
    "    \n",
    "    randomsearch = RandomizedSearchCV(model,param_distributions=param,n_iter=50,n_jobs=-1,scoring='accuracy',return_train_score=False,verbose=5,random_state=5)\n",
    "    \n",
    "    start_time = timer(None) # timing starts from this point for \"start_time\" variable\n",
    "    print('Model:',model_name)\n",
    "    randomsearch.fit(X_train, y_train)\n",
    "    timer(start_time) # timing ends here for \"start_time\" variable\n",
    "    \n",
    "    train_pred= randomsearch.predict(X_train)\n",
    "    test_pred = randomsearch.predict(X_test)\n",
    "    \n",
    "    return train_pred, test_pred"
   ]
  },
  {
   "cell_type": "code",
   "execution_count": null,
   "id": "2d2ca4ec-938e-4c4c-9004-68e96e4bfb35",
   "metadata": {
    "executionInfo": {
     "elapsed": 23,
     "status": "aborted",
     "timestamp": 1662911210193,
     "user": {
      "displayName": "Greengeo Engineering Consultants",
      "userId": "08051006041641402633"
     },
     "user_tz": -330
    },
    "id": "2d2ca4ec-938e-4c4c-9004-68e96e4bfb35"
   },
   "outputs": [],
   "source": [
    "# Function to pickle the model with best weights\n",
    "def pickle_prediction(model_performance,preprocessed_train,preprocessed_test,target_feature,file_name):\n",
    "    \n",
    "    best_model = model_performance[model_performance['Test_accuracy']==max(model_performance['Test_accuracy'])]['Model'].iloc[0]\n",
    "    \n",
    "    X_train = preprocessed_train.copy()\n",
    "    X_train.drop('ID',axis=1,inplace=True)\n",
    "    X_train.drop(target_feature,axis=1,inplace=True)\n",
    "    y_train = preprocessed_train[target_feature] \n",
    "    X_Scaled = X_train.apply(zscore)\n",
    "    \n",
    "    #print(X_Scaled.info())\n",
    "    #print(preprocessed_test.info())\n",
    "    \n",
    "    X_test = preprocessed_test.copy()\n",
    "    X_test.drop('ID',axis=1,inplace=True)\n",
    "    X_test_Scaled = X_test.apply(zscore)\n",
    "    \n",
    "    print(best_model)\n",
    "    \n",
    "    best_model.fit(X_Scaled,y_train)\n",
    "    with open(file_name, 'wb') as handle:\n",
    "        pickle.dump(best_model, handle, protocol=pickle.HIGHEST_PROTOCOL)\n",
    "    \n",
    "    test_pred = best_model.predict(X_test_Scaled)\n",
    "    \n",
    "    submission_df = pd.read_csv('/content/drive/Othercomputers/My Laptop/Desktop/PGPAIML/Code/Voksd Hackathon/Sample_Submission.csv')\n",
    "    submission_df.loc[:,'income'] = test_pred    \n",
    "    submission_df.to_csv('/content/drive/Othercomputers/My Laptop/Desktop/PGPAIML/Code/Voksd Hackathon/Submission_df.csv',sep=',',index = False)"
   ]
  },
  {
   "cell_type": "code",
   "execution_count": null,
   "id": "a1361806-6455-4a95-ba73-54766b0709cd",
   "metadata": {
    "executionInfo": {
     "elapsed": 22,
     "status": "aborted",
     "timestamp": 1662911210193,
     "user": {
      "displayName": "Greengeo Engineering Consultants",
      "userId": "08051006041641402633"
     },
     "user_tz": -330
    },
    "id": "a1361806-6455-4a95-ba73-54766b0709cd"
   },
   "outputs": [],
   "source": [
    "# Main function to call the pipeline\n",
    "def main_fn():\n",
    "    \n",
    "    path_train_csv = '/content/drive/Othercomputers/My Laptop/Desktop/PGPAIML/Code/Voksd Hackathon/train.csv'\n",
    "    path_test_csv = '/content/drive/Othercomputers/My Laptop/Desktop/PGPAIML/Code/Voksd Hackathon/test.csv'\n",
    "    target_feature = 'income'\n",
    "    \n",
    "    preprocessed_train,preprocessed_test,target_feature = preprocess_data(path_train_csv,path_test_csv,target_feature)\n",
    "    \n",
    "    model_performance,X_train,y_train = train_model(preprocessed_train,target_feature)\n",
    "    \n",
    "    model_performance.to_csv('/content/drive/Othercomputers/My Laptop/Desktop/PGPAIML/Code/Voksd Hackathon/model_performance.csv',sep=',')\n",
    "    \n",
    "    pickle_prediction(model_performance,preprocessed_train,preprocessed_test,target_feature,'model.pkl')\n",
    "    "
   ]
  },
  {
   "cell_type": "code",
   "execution_count": null,
   "id": "cbccd679-4388-4602-ae72-c0d8b525795b",
   "metadata": {
    "executionInfo": {
     "elapsed": 23,
     "status": "aborted",
     "timestamp": 1662911210194,
     "user": {
      "displayName": "Greengeo Engineering Consultants",
      "userId": "08051006041641402633"
     },
     "user_tz": -330
    },
    "id": "cbccd679-4388-4602-ae72-c0d8b525795b",
    "tags": []
   },
   "outputs": [],
   "source": [
    "main_fn()"
   ]
  }
 ],
 "metadata": {
  "accelerator": "GPU",
  "colab": {
   "collapsed_sections": [],
   "provenance": []
  },
  "gpuClass": "standard",
  "instance_type": "ml.t3.medium",
  "kernelspec": {
   "display_name": "Python 3 (ipykernel)",
   "language": "python",
   "name": "python3"
  },
  "language_info": {
   "codemirror_mode": {
    "name": "ipython",
    "version": 3
   },
   "file_extension": ".py",
   "mimetype": "text/x-python",
   "name": "python",
   "nbconvert_exporter": "python",
   "pygments_lexer": "ipython3",
   "version": "3.11.5"
  },
  "toc-autonumbering": true,
  "toc-showmarkdowntxt": false
 },
 "nbformat": 4,
 "nbformat_minor": 5
}
